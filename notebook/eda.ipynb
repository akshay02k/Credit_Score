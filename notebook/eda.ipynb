{
 "cells": [
  {
   "cell_type": "code",
   "execution_count": 1,
   "metadata": {},
   "outputs": [],
   "source": [
    "import numpy as np\n",
    "import pandas as pd\n",
    "import matplotlib.pyplot as plt\n",
    "import seaborn as sns\n",
    "from sklearn.preprocessing import StandardScaler, LabelEncoder\n",
    "from sklearn.impute import SimpleImputer\n",
    "from sklearn.model_selection import train_test_split\n",
    "from sklearn.metrics import confusion_matrix,classification_report,ConfusionMatrixDisplay, accuracy_score\n",
    "from sklearn.ensemble import RandomForestClassifier\n",
    "from xgboost import XGBClassifier\n",
    "from catboost import CatBoostClassifier"
   ]
  },
  {
   "cell_type": "code",
   "execution_count": 2,
   "metadata": {},
   "outputs": [
    {
     "name": "stderr",
     "output_type": "stream",
     "text": [
      "C:\\Users\\Lenovo\\AppData\\Local\\Temp\\ipykernel_13808\\670854966.py:1: DtypeWarning: Columns (26) have mixed types. Specify dtype option on import or set low_memory=False.\n",
      "  data = pd.read_csv(r\"D:\\CREDITSCORE\\notebook\\creditscore.csv\")\n"
     ]
    }
   ],
   "source": [
    "data = pd.read_csv(r\"D:\\CREDITSCORE\\notebook\\creditscore.csv\")"
   ]
  },
  {
   "cell_type": "code",
   "execution_count": 3,
   "metadata": {},
   "outputs": [
    {
     "data": {
      "text/html": [
       "<div>\n",
       "<style scoped>\n",
       "    .dataframe tbody tr th:only-of-type {\n",
       "        vertical-align: middle;\n",
       "    }\n",
       "\n",
       "    .dataframe tbody tr th {\n",
       "        vertical-align: top;\n",
       "    }\n",
       "\n",
       "    .dataframe thead th {\n",
       "        text-align: right;\n",
       "    }\n",
       "</style>\n",
       "<table border=\"1\" class=\"dataframe\">\n",
       "  <thead>\n",
       "    <tr style=\"text-align: right;\">\n",
       "      <th></th>\n",
       "      <th>ID</th>\n",
       "      <th>Customer_ID</th>\n",
       "      <th>Month</th>\n",
       "      <th>Name</th>\n",
       "      <th>Age</th>\n",
       "      <th>SSN</th>\n",
       "      <th>Occupation</th>\n",
       "      <th>Annual_Income</th>\n",
       "      <th>Monthly_Inhand_Salary</th>\n",
       "      <th>Num_Bank_Accounts</th>\n",
       "      <th>...</th>\n",
       "      <th>Credit_Mix</th>\n",
       "      <th>Outstanding_Debt</th>\n",
       "      <th>Credit_Utilization_Ratio</th>\n",
       "      <th>Credit_History_Age</th>\n",
       "      <th>Payment_of_Min_Amount</th>\n",
       "      <th>Total_EMI_per_month</th>\n",
       "      <th>Amount_invested_monthly</th>\n",
       "      <th>Payment_Behaviour</th>\n",
       "      <th>Monthly_Balance</th>\n",
       "      <th>Credit_Score</th>\n",
       "    </tr>\n",
       "  </thead>\n",
       "  <tbody>\n",
       "    <tr>\n",
       "      <th>0</th>\n",
       "      <td>0x1602</td>\n",
       "      <td>CUS_0xd40</td>\n",
       "      <td>January</td>\n",
       "      <td>Aaron Maashoh</td>\n",
       "      <td>23</td>\n",
       "      <td>821-00-0265</td>\n",
       "      <td>Scientist</td>\n",
       "      <td>19114.12</td>\n",
       "      <td>1824.843333</td>\n",
       "      <td>3</td>\n",
       "      <td>...</td>\n",
       "      <td>_</td>\n",
       "      <td>809.98</td>\n",
       "      <td>26.822620</td>\n",
       "      <td>22 Years and 1 Months</td>\n",
       "      <td>No</td>\n",
       "      <td>49.574949</td>\n",
       "      <td>80.41529543900253</td>\n",
       "      <td>High_spent_Small_value_payments</td>\n",
       "      <td>312.49408867943663</td>\n",
       "      <td>Good</td>\n",
       "    </tr>\n",
       "    <tr>\n",
       "      <th>1</th>\n",
       "      <td>0x1603</td>\n",
       "      <td>CUS_0xd40</td>\n",
       "      <td>February</td>\n",
       "      <td>Aaron Maashoh</td>\n",
       "      <td>23</td>\n",
       "      <td>821-00-0265</td>\n",
       "      <td>Scientist</td>\n",
       "      <td>19114.12</td>\n",
       "      <td>NaN</td>\n",
       "      <td>3</td>\n",
       "      <td>...</td>\n",
       "      <td>Good</td>\n",
       "      <td>809.98</td>\n",
       "      <td>31.944960</td>\n",
       "      <td>NaN</td>\n",
       "      <td>No</td>\n",
       "      <td>49.574949</td>\n",
       "      <td>118.28022162236736</td>\n",
       "      <td>Low_spent_Large_value_payments</td>\n",
       "      <td>284.62916249607184</td>\n",
       "      <td>Good</td>\n",
       "    </tr>\n",
       "    <tr>\n",
       "      <th>2</th>\n",
       "      <td>0x1604</td>\n",
       "      <td>CUS_0xd40</td>\n",
       "      <td>March</td>\n",
       "      <td>Aaron Maashoh</td>\n",
       "      <td>-500</td>\n",
       "      <td>821-00-0265</td>\n",
       "      <td>Scientist</td>\n",
       "      <td>19114.12</td>\n",
       "      <td>NaN</td>\n",
       "      <td>3</td>\n",
       "      <td>...</td>\n",
       "      <td>Good</td>\n",
       "      <td>809.98</td>\n",
       "      <td>28.609352</td>\n",
       "      <td>22 Years and 3 Months</td>\n",
       "      <td>No</td>\n",
       "      <td>49.574949</td>\n",
       "      <td>81.699521264648</td>\n",
       "      <td>Low_spent_Medium_value_payments</td>\n",
       "      <td>331.2098628537912</td>\n",
       "      <td>Good</td>\n",
       "    </tr>\n",
       "    <tr>\n",
       "      <th>3</th>\n",
       "      <td>0x1605</td>\n",
       "      <td>CUS_0xd40</td>\n",
       "      <td>April</td>\n",
       "      <td>Aaron Maashoh</td>\n",
       "      <td>23</td>\n",
       "      <td>821-00-0265</td>\n",
       "      <td>Scientist</td>\n",
       "      <td>19114.12</td>\n",
       "      <td>NaN</td>\n",
       "      <td>3</td>\n",
       "      <td>...</td>\n",
       "      <td>Good</td>\n",
       "      <td>809.98</td>\n",
       "      <td>31.377862</td>\n",
       "      <td>22 Years and 4 Months</td>\n",
       "      <td>No</td>\n",
       "      <td>49.574949</td>\n",
       "      <td>199.4580743910713</td>\n",
       "      <td>Low_spent_Small_value_payments</td>\n",
       "      <td>223.45130972736786</td>\n",
       "      <td>Good</td>\n",
       "    </tr>\n",
       "    <tr>\n",
       "      <th>4</th>\n",
       "      <td>0x1606</td>\n",
       "      <td>CUS_0xd40</td>\n",
       "      <td>May</td>\n",
       "      <td>Aaron Maashoh</td>\n",
       "      <td>23</td>\n",
       "      <td>821-00-0265</td>\n",
       "      <td>Scientist</td>\n",
       "      <td>19114.12</td>\n",
       "      <td>1824.843333</td>\n",
       "      <td>3</td>\n",
       "      <td>...</td>\n",
       "      <td>Good</td>\n",
       "      <td>809.98</td>\n",
       "      <td>24.797347</td>\n",
       "      <td>22 Years and 5 Months</td>\n",
       "      <td>No</td>\n",
       "      <td>49.574949</td>\n",
       "      <td>41.420153086217326</td>\n",
       "      <td>High_spent_Medium_value_payments</td>\n",
       "      <td>341.48923103222177</td>\n",
       "      <td>Good</td>\n",
       "    </tr>\n",
       "  </tbody>\n",
       "</table>\n",
       "<p>5 rows × 28 columns</p>\n",
       "</div>"
      ],
      "text/plain": [
       "       ID Customer_ID     Month           Name   Age          SSN Occupation  \\\n",
       "0  0x1602   CUS_0xd40   January  Aaron Maashoh    23  821-00-0265  Scientist   \n",
       "1  0x1603   CUS_0xd40  February  Aaron Maashoh    23  821-00-0265  Scientist   \n",
       "2  0x1604   CUS_0xd40     March  Aaron Maashoh  -500  821-00-0265  Scientist   \n",
       "3  0x1605   CUS_0xd40     April  Aaron Maashoh    23  821-00-0265  Scientist   \n",
       "4  0x1606   CUS_0xd40       May  Aaron Maashoh    23  821-00-0265  Scientist   \n",
       "\n",
       "  Annual_Income  Monthly_Inhand_Salary  Num_Bank_Accounts  ...  Credit_Mix  \\\n",
       "0      19114.12            1824.843333                  3  ...           _   \n",
       "1      19114.12                    NaN                  3  ...        Good   \n",
       "2      19114.12                    NaN                  3  ...        Good   \n",
       "3      19114.12                    NaN                  3  ...        Good   \n",
       "4      19114.12            1824.843333                  3  ...        Good   \n",
       "\n",
       "   Outstanding_Debt Credit_Utilization_Ratio     Credit_History_Age  \\\n",
       "0            809.98                26.822620  22 Years and 1 Months   \n",
       "1            809.98                31.944960                    NaN   \n",
       "2            809.98                28.609352  22 Years and 3 Months   \n",
       "3            809.98                31.377862  22 Years and 4 Months   \n",
       "4            809.98                24.797347  22 Years and 5 Months   \n",
       "\n",
       "   Payment_of_Min_Amount Total_EMI_per_month Amount_invested_monthly  \\\n",
       "0                     No           49.574949       80.41529543900253   \n",
       "1                     No           49.574949      118.28022162236736   \n",
       "2                     No           49.574949         81.699521264648   \n",
       "3                     No           49.574949       199.4580743910713   \n",
       "4                     No           49.574949      41.420153086217326   \n",
       "\n",
       "                  Payment_Behaviour     Monthly_Balance Credit_Score  \n",
       "0   High_spent_Small_value_payments  312.49408867943663         Good  \n",
       "1    Low_spent_Large_value_payments  284.62916249607184         Good  \n",
       "2   Low_spent_Medium_value_payments   331.2098628537912         Good  \n",
       "3    Low_spent_Small_value_payments  223.45130972736786         Good  \n",
       "4  High_spent_Medium_value_payments  341.48923103222177         Good  \n",
       "\n",
       "[5 rows x 28 columns]"
      ]
     },
     "execution_count": 3,
     "metadata": {},
     "output_type": "execute_result"
    }
   ],
   "source": [
    "data.head()"
   ]
  },
  {
   "cell_type": "code",
   "execution_count": 4,
   "metadata": {},
   "outputs": [
    {
     "data": {
      "text/plain": [
       "ID                              0\n",
       "Customer_ID                     0\n",
       "Month                           0\n",
       "Name                         9985\n",
       "Age                             0\n",
       "SSN                             0\n",
       "Occupation                      0\n",
       "Annual_Income                   0\n",
       "Monthly_Inhand_Salary       15002\n",
       "Num_Bank_Accounts               0\n",
       "Num_Credit_Card                 0\n",
       "Interest_Rate                   0\n",
       "Num_of_Loan                     0\n",
       "Type_of_Loan                11408\n",
       "Delay_from_due_date             0\n",
       "Num_of_Delayed_Payment       7002\n",
       "Changed_Credit_Limit            0\n",
       "Num_Credit_Inquiries         1965\n",
       "Credit_Mix                      0\n",
       "Outstanding_Debt                0\n",
       "Credit_Utilization_Ratio        0\n",
       "Credit_History_Age           9030\n",
       "Payment_of_Min_Amount           0\n",
       "Total_EMI_per_month             0\n",
       "Amount_invested_monthly      4479\n",
       "Payment_Behaviour               0\n",
       "Monthly_Balance              1200\n",
       "Credit_Score                    0\n",
       "dtype: int64"
      ]
     },
     "execution_count": 4,
     "metadata": {},
     "output_type": "execute_result"
    }
   ],
   "source": [
    "data.isnull().sum()"
   ]
  },
  {
   "cell_type": "code",
   "execution_count": 5,
   "metadata": {},
   "outputs": [
    {
     "data": {
      "text/plain": [
       "0"
      ]
     },
     "execution_count": 5,
     "metadata": {},
     "output_type": "execute_result"
    }
   ],
   "source": [
    "data.duplicated().sum()"
   ]
  },
  {
   "cell_type": "code",
   "execution_count": 6,
   "metadata": {},
   "outputs": [
    {
     "data": {
      "text/plain": [
       "Index(['ID', 'Customer_ID', 'Month', 'Name', 'Age', 'SSN', 'Occupation',\n",
       "       'Annual_Income', 'Monthly_Inhand_Salary', 'Num_Bank_Accounts',\n",
       "       'Num_Credit_Card', 'Interest_Rate', 'Num_of_Loan', 'Type_of_Loan',\n",
       "       'Delay_from_due_date', 'Num_of_Delayed_Payment', 'Changed_Credit_Limit',\n",
       "       'Num_Credit_Inquiries', 'Credit_Mix', 'Outstanding_Debt',\n",
       "       'Credit_Utilization_Ratio', 'Credit_History_Age',\n",
       "       'Payment_of_Min_Amount', 'Total_EMI_per_month',\n",
       "       'Amount_invested_monthly', 'Payment_Behaviour', 'Monthly_Balance',\n",
       "       'Credit_Score'],\n",
       "      dtype='object')"
      ]
     },
     "execution_count": 6,
     "metadata": {},
     "output_type": "execute_result"
    }
   ],
   "source": [
    "col_name = data.columns\n",
    "col_name"
   ]
  },
  {
   "cell_type": "code",
   "execution_count": 7,
   "metadata": {},
   "outputs": [
    {
     "data": {
      "text/plain": [
       "ID                           object\n",
       "Customer_ID                  object\n",
       "Month                        object\n",
       "Name                         object\n",
       "Age                          object\n",
       "SSN                          object\n",
       "Occupation                   object\n",
       "Annual_Income                object\n",
       "Monthly_Inhand_Salary       float64\n",
       "Num_Bank_Accounts             int64\n",
       "Num_Credit_Card               int64\n",
       "Interest_Rate                 int64\n",
       "Num_of_Loan                  object\n",
       "Type_of_Loan                 object\n",
       "Delay_from_due_date           int64\n",
       "Num_of_Delayed_Payment       object\n",
       "Changed_Credit_Limit         object\n",
       "Num_Credit_Inquiries        float64\n",
       "Credit_Mix                   object\n",
       "Outstanding_Debt             object\n",
       "Credit_Utilization_Ratio    float64\n",
       "Credit_History_Age           object\n",
       "Payment_of_Min_Amount        object\n",
       "Total_EMI_per_month         float64\n",
       "Amount_invested_monthly      object\n",
       "Payment_Behaviour            object\n",
       "Monthly_Balance              object\n",
       "Credit_Score                 object\n",
       "dtype: object"
      ]
     },
     "execution_count": 7,
     "metadata": {},
     "output_type": "execute_result"
    }
   ],
   "source": [
    "data.dtypes"
   ]
  },
  {
   "cell_type": "code",
   "execution_count": 8,
   "metadata": {},
   "outputs": [],
   "source": [
    "data.drop(['ID','Name','SSN','Month'],axis=1,inplace=True)"
   ]
  },
  {
   "cell_type": "code",
   "execution_count": 9,
   "metadata": {},
   "outputs": [],
   "source": [
    "wrong_types = ['Age','Annual_Income','Num_of_Loan','Num_of_Delayed_Payment','Changed_Credit_Limit',\n",
    "               'Outstanding_Debt','Amount_invested_monthly','Monthly_Balance']"
   ]
  },
  {
   "cell_type": "code",
   "execution_count": 10,
   "metadata": {},
   "outputs": [
    {
     "name": "stdout",
     "output_type": "stream",
     "text": [
      "Changed_Credit_Limit\n"
     ]
    }
   ],
   "source": [
    "for col in wrong_types:\n",
    "    if data[col][data[col] == '_'].any():\n",
    "        print(col)"
   ]
  },
  {
   "cell_type": "code",
   "execution_count": 11,
   "metadata": {},
   "outputs": [],
   "source": [
    "data.loc[data.Changed_Credit_Limit == '_','Changed_Credit_Limit'] = np.nan"
   ]
  },
  {
   "cell_type": "code",
   "execution_count": 12,
   "metadata": {},
   "outputs": [],
   "source": [
    "for col in wrong_types:\n",
    "    data[col] = data[col].str.replace('_','').astype('float64')"
   ]
  },
  {
   "cell_type": "code",
   "execution_count": 13,
   "metadata": {},
   "outputs": [
    {
     "data": {
      "text/plain": [
       "Customer_ID                  object\n",
       "Age                         float64\n",
       "Occupation                   object\n",
       "Annual_Income               float64\n",
       "Monthly_Inhand_Salary       float64\n",
       "Num_Bank_Accounts             int64\n",
       "Num_Credit_Card               int64\n",
       "Interest_Rate                 int64\n",
       "Num_of_Loan                 float64\n",
       "Type_of_Loan                 object\n",
       "Delay_from_due_date           int64\n",
       "Num_of_Delayed_Payment      float64\n",
       "Changed_Credit_Limit        float64\n",
       "Num_Credit_Inquiries        float64\n",
       "Credit_Mix                   object\n",
       "Outstanding_Debt            float64\n",
       "Credit_Utilization_Ratio    float64\n",
       "Credit_History_Age           object\n",
       "Payment_of_Min_Amount        object\n",
       "Total_EMI_per_month         float64\n",
       "Amount_invested_monthly     float64\n",
       "Payment_Behaviour            object\n",
       "Monthly_Balance             float64\n",
       "Credit_Score                 object\n",
       "dtype: object"
      ]
     },
     "execution_count": 13,
     "metadata": {},
     "output_type": "execute_result"
    }
   ],
   "source": [
    "data.dtypes"
   ]
  },
  {
   "cell_type": "code",
   "execution_count": 14,
   "metadata": {},
   "outputs": [
    {
     "data": {
      "text/plain": [
       "Index(['Age', 'Annual_Income', 'Monthly_Inhand_Salary', 'Num_Bank_Accounts',\n",
       "       'Num_Credit_Card', 'Interest_Rate', 'Num_of_Loan',\n",
       "       'Delay_from_due_date', 'Num_of_Delayed_Payment', 'Changed_Credit_Limit',\n",
       "       'Num_Credit_Inquiries', 'Outstanding_Debt', 'Credit_Utilization_Ratio',\n",
       "       'Total_EMI_per_month', 'Amount_invested_monthly', 'Monthly_Balance'],\n",
       "      dtype='object')"
      ]
     },
     "execution_count": 14,
     "metadata": {},
     "output_type": "execute_result"
    }
   ],
   "source": [
    "numerical = data.select_dtypes(include=['float64','int64']).columns\n",
    "numerical"
   ]
  },
  {
   "cell_type": "code",
   "execution_count": 15,
   "metadata": {},
   "outputs": [
    {
     "data": {
      "text/plain": [
       "Index(['Customer_ID', 'Occupation', 'Type_of_Loan', 'Credit_Mix',\n",
       "       'Credit_History_Age', 'Payment_of_Min_Amount', 'Payment_Behaviour',\n",
       "       'Credit_Score'],\n",
       "      dtype='object')"
      ]
     },
     "execution_count": 15,
     "metadata": {},
     "output_type": "execute_result"
    }
   ],
   "source": [
    "categorical = data.select_dtypes(include=['object']).columns\n",
    "categorical"
   ]
  },
  {
   "cell_type": "code",
   "execution_count": 16,
   "metadata": {},
   "outputs": [
    {
     "data": {
      "text/plain": [
       "12500"
      ]
     },
     "execution_count": 16,
     "metadata": {},
     "output_type": "execute_result"
    }
   ],
   "source": [
    "(data.Customer_ID.value_counts() == 8).sum()"
   ]
  },
  {
   "cell_type": "code",
   "execution_count": 17,
   "metadata": {},
   "outputs": [],
   "source": [
    "data.Age = data.groupby('Customer_ID').Age.transform(lambda x : x.mode()[0])\n",
    "data.Annual_Income = data.groupby('Customer_ID').Annual_Income.transform(lambda x : x.mode()[0])\n",
    "data.Occupation = data.groupby('Customer_ID').Occupation.transform(lambda x : x.mode()[0])"
   ]
  },
  {
   "cell_type": "code",
   "execution_count": 18,
   "metadata": {},
   "outputs": [
    {
     "name": "stdout",
     "output_type": "stream",
     "text": [
      "Num_Bank_Accounts 21\n",
      "Num_of_Loan 3876\n",
      "Delay_from_due_date 591\n",
      "Num_of_Delayed_Payment 644\n",
      "Changed_Credit_Limit 1586\n",
      "Monthly_Balance 9\n"
     ]
    }
   ],
   "source": [
    "for col in numerical:    \n",
    "    if data[col][data[col] < 0].any():\n",
    "        print(col,len(data[col][data[col] < 0]))"
   ]
  },
  {
   "cell_type": "code",
   "execution_count": 19,
   "metadata": {},
   "outputs": [
    {
     "data": {
      "text/plain": [
       "Num_Bank_Accounts\n",
       "-1    21\n",
       "Name: count, dtype: int64"
      ]
     },
     "execution_count": 19,
     "metadata": {},
     "output_type": "execute_result"
    }
   ],
   "source": [
    "data.Num_Bank_Accounts[data.Num_Bank_Accounts < 0].value_counts()"
   ]
  },
  {
   "cell_type": "code",
   "execution_count": 20,
   "metadata": {},
   "outputs": [],
   "source": [
    "data.drop(data[data.Num_Bank_Accounts < 0].index,inplace=True)\n"
   ]
  },
  {
   "cell_type": "code",
   "execution_count": 21,
   "metadata": {},
   "outputs": [
    {
     "data": {
      "text/plain": [
       "Num_of_Loan\n",
       "-100.0    3875\n",
       "Name: count, dtype: int64"
      ]
     },
     "execution_count": 21,
     "metadata": {},
     "output_type": "execute_result"
    }
   ],
   "source": [
    "data.Num_of_Loan[data.Num_of_Loan<0].value_counts()"
   ]
  },
  {
   "cell_type": "code",
   "execution_count": 22,
   "metadata": {},
   "outputs": [],
   "source": [
    "data.drop(data[data.Num_of_Loan < 0].index,inplace=True)"
   ]
  },
  {
   "cell_type": "code",
   "execution_count": 23,
   "metadata": {},
   "outputs": [],
   "source": [
    "data.reset_index(drop=True,inplace=True)"
   ]
  },
  {
   "cell_type": "code",
   "execution_count": 24,
   "metadata": {},
   "outputs": [
    {
     "name": "stdout",
     "output_type": "stream",
     "text": [
      "Delay_from_due_date 559\n",
      "Num_of_Delayed_Payment 616\n",
      "Changed_Credit_Limit 1525\n",
      "Monthly_Balance 9\n"
     ]
    }
   ],
   "source": [
    "for col in numerical:    \n",
    "    if data[col][data[col] < 0].any():\n",
    "        print(col,len(data[col][data[col] < 0]))"
   ]
  },
  {
   "cell_type": "code",
   "execution_count": 25,
   "metadata": {},
   "outputs": [
    {
     "data": {
      "text/plain": [
       "Num_Bank_Accounts\n",
       "803     7\n",
       "791     5\n",
       "1668    5\n",
       "105     5\n",
       "1257    4\n",
       "       ..\n",
       "887     1\n",
       "211     1\n",
       "385     1\n",
       "1221    1\n",
       "697     1\n",
       "Name: count, Length: 887, dtype: int64"
      ]
     },
     "execution_count": 25,
     "metadata": {},
     "output_type": "execute_result"
    }
   ],
   "source": [
    "data.Num_Bank_Accounts[data.Num_Bank_Accounts > 50].value_counts()"
   ]
  },
  {
   "cell_type": "code",
   "execution_count": 26,
   "metadata": {},
   "outputs": [],
   "source": [
    "data.drop(data[data.Num_Bank_Accounts > 50].index,inplace=True)"
   ]
  },
  {
   "cell_type": "code",
   "execution_count": 27,
   "metadata": {},
   "outputs": [
    {
     "data": {
      "text/plain": [
       "Num_Credit_Card\n",
       "849     8\n",
       "852     7\n",
       "218     6\n",
       "183     6\n",
       "106     6\n",
       "       ..\n",
       "1140    1\n",
       "290     1\n",
       "414     1\n",
       "892     1\n",
       "679     1\n",
       "Name: count, Length: 1119, dtype: int64"
      ]
     },
     "execution_count": 27,
     "metadata": {},
     "output_type": "execute_result"
    }
   ],
   "source": [
    "data.Num_Credit_Card[data.Num_Credit_Card > 50].value_counts()"
   ]
  },
  {
   "cell_type": "code",
   "execution_count": 28,
   "metadata": {},
   "outputs": [],
   "source": [
    "data.drop(data[data.Num_Credit_Card > 50].index,inplace=True)"
   ]
  },
  {
   "cell_type": "code",
   "execution_count": 29,
   "metadata": {},
   "outputs": [],
   "source": [
    "data.reset_index(drop=True,inplace=True)"
   ]
  },
  {
   "cell_type": "code",
   "execution_count": 30,
   "metadata": {},
   "outputs": [
    {
     "data": {
      "text/plain": [
       "Customer_ID                     0\n",
       "Age                             0\n",
       "Occupation                      0\n",
       "Annual_Income                   0\n",
       "Monthly_Inhand_Salary       13894\n",
       "Num_Bank_Accounts               0\n",
       "Num_Credit_Card                 0\n",
       "Interest_Rate                   0\n",
       "Num_of_Loan                     0\n",
       "Type_of_Loan                10574\n",
       "Delay_from_due_date             0\n",
       "Num_of_Delayed_Payment       6468\n",
       "Changed_Credit_Limit         1949\n",
       "Num_Credit_Inquiries         1809\n",
       "Credit_Mix                      0\n",
       "Outstanding_Debt                0\n",
       "Credit_Utilization_Ratio        0\n",
       "Credit_History_Age           8418\n",
       "Payment_of_Min_Amount           0\n",
       "Total_EMI_per_month             0\n",
       "Amount_invested_monthly      4151\n",
       "Payment_Behaviour               0\n",
       "Monthly_Balance              2659\n",
       "Credit_Score                    0\n",
       "dtype: int64"
      ]
     },
     "execution_count": 30,
     "metadata": {},
     "output_type": "execute_result"
    }
   ],
   "source": [
    "data.isnull().sum() "
   ]
  },
  {
   "cell_type": "code",
   "execution_count": 31,
   "metadata": {},
   "outputs": [
    {
     "data": {
      "text/plain": [
       "Monthly_Inhand_Salary      0\n",
       "Num_of_Delayed_Payment     0\n",
       "Changed_Credit_Limit       0\n",
       "Num_Credit_Inquiries       0\n",
       "Amount_invested_monthly    0\n",
       "Monthly_Balance            0\n",
       "dtype: int64"
      ]
     },
     "execution_count": 31,
     "metadata": {},
     "output_type": "execute_result"
    }
   ],
   "source": [
    "null_num_cols = ['Monthly_Inhand_Salary','Num_of_Delayed_Payment','Changed_Credit_Limit','Num_Credit_Inquiries','Amount_invested_monthly','Monthly_Balance']\n",
    "imputer = SimpleImputer(strategy='mean')\n",
    "imputed_numerical = pd.DataFrame(imputer.fit_transform(data[null_num_cols]),columns=null_num_cols)\n",
    "imputed_numerical.isnull().sum()"
   ]
  },
  {
   "cell_type": "code",
   "execution_count": 32,
   "metadata": {},
   "outputs": [],
   "source": [
    "data[null_num_cols] = imputed_numerical"
   ]
  },
  {
   "cell_type": "code",
   "execution_count": 33,
   "metadata": {},
   "outputs": [
    {
     "data": {
      "text/plain": [
       "Customer_ID                     0\n",
       "Age                             0\n",
       "Occupation                      0\n",
       "Annual_Income                   0\n",
       "Monthly_Inhand_Salary           0\n",
       "Num_Bank_Accounts               0\n",
       "Num_Credit_Card                 0\n",
       "Interest_Rate                   0\n",
       "Num_of_Loan                     0\n",
       "Type_of_Loan                10574\n",
       "Delay_from_due_date             0\n",
       "Num_of_Delayed_Payment          0\n",
       "Changed_Credit_Limit            0\n",
       "Num_Credit_Inquiries            0\n",
       "Credit_Mix                      0\n",
       "Outstanding_Debt                0\n",
       "Credit_Utilization_Ratio        0\n",
       "Credit_History_Age           8418\n",
       "Payment_of_Min_Amount           0\n",
       "Total_EMI_per_month             0\n",
       "Amount_invested_monthly         0\n",
       "Payment_Behaviour               0\n",
       "Monthly_Balance                 0\n",
       "Credit_Score                    0\n",
       "dtype: int64"
      ]
     },
     "execution_count": 33,
     "metadata": {},
     "output_type": "execute_result"
    }
   ],
   "source": [
    "data.isnull().sum()\n"
   ]
  },
  {
   "cell_type": "code",
   "execution_count": 34,
   "metadata": {},
   "outputs": [
    {
     "data": {
      "text/plain": [
       "Occupation\n",
       "Lawyer           6566\n",
       "Engineer         6329\n",
       "Mechanic         6320\n",
       "Architect        6303\n",
       "Scientist        6277\n",
       "Accountant       6224\n",
       "Developer        6222\n",
       "Teacher          6215\n",
       "Media_Manager    6193\n",
       "Entrepreneur     6165\n",
       "Journalist       6086\n",
       "Doctor           6070\n",
       "Manager          5965\n",
       "Musician         5923\n",
       "Writer           5895\n",
       "_______             8\n",
       "Name: count, dtype: int64"
      ]
     },
     "execution_count": 34,
     "metadata": {},
     "output_type": "execute_result"
    }
   ],
   "source": [
    "data.Occupation.value_counts()"
   ]
  },
  {
   "cell_type": "code",
   "execution_count": 35,
   "metadata": {},
   "outputs": [],
   "source": [
    "data.loc[data.Occupation == '_______','Occupation'] = np.nan\n"
   ]
  },
  {
   "cell_type": "code",
   "execution_count": 36,
   "metadata": {},
   "outputs": [
    {
     "data": {
      "text/plain": [
       "Type_of_Loan\n",
       "Not Specified                                                                                               1296\n",
       "Credit-Builder Loan                                                                                         1165\n",
       "Personal Loan                                                                                               1163\n",
       "Student Loan                                                                                                1160\n",
       "Debt Consolidation Loan                                                                                     1157\n",
       "                                                                                                            ... \n",
       "Home Equity Loan, Debt Consolidation Loan, Personal Loan, Not Specified, and Mortgage Loan                     4\n",
       "Auto Loan, Credit-Builder Loan, Payday Loan, Personal Loan, and Student Loan                                   4\n",
       "Not Specified, Payday Loan, Payday Loan, and Credit-Builder Loan                                               4\n",
       "Personal Loan, Home Equity Loan, Personal Loan, and Personal Loan                                              4\n",
       "Payday Loan, Debt Consolidation Loan, Debt Consolidation Loan, Student Loan, and Debt Consolidation Loan       4\n",
       "Name: count, Length: 6260, dtype: int64"
      ]
     },
     "execution_count": 36,
     "metadata": {},
     "output_type": "execute_result"
    }
   ],
   "source": [
    "data.Type_of_Loan.value_counts()\n"
   ]
  },
  {
   "cell_type": "code",
   "execution_count": 37,
   "metadata": {},
   "outputs": [
    {
     "data": {
      "text/plain": [
       "False"
      ]
     },
     "execution_count": 37,
     "metadata": {},
     "output_type": "execute_result"
    }
   ],
   "source": [
    "data.Type_of_Loan[data.Type_of_Loan == '_'].any()\n"
   ]
  },
  {
   "cell_type": "code",
   "execution_count": 38,
   "metadata": {},
   "outputs": [
    {
     "data": {
      "text/plain": [
       "Credit_Mix\n",
       "Standard    33803\n",
       "Good        22541\n",
       "_           18767\n",
       "Bad         17650\n",
       "Name: count, dtype: int64"
      ]
     },
     "execution_count": 38,
     "metadata": {},
     "output_type": "execute_result"
    }
   ],
   "source": [
    "data.Credit_Mix.value_counts() \n"
   ]
  },
  {
   "cell_type": "code",
   "execution_count": 39,
   "metadata": {},
   "outputs": [],
   "source": [
    "data.loc[data.Credit_Mix == '_', 'Credit_Mix'] = np.nan\n"
   ]
  },
  {
   "cell_type": "code",
   "execution_count": 40,
   "metadata": {},
   "outputs": [
    {
     "data": {
      "text/plain": [
       "<Axes: xlabel='count', ylabel='Credit_Mix'>"
      ]
     },
     "execution_count": 40,
     "metadata": {},
     "output_type": "execute_result"
    },
    {
     "data": {
      "image/png": "[encoded data removed]",
      "text/plain": [
       "<Figure size 640x480 with 1 Axes>"
      ]
     },
     "metadata": {},
     "output_type": "display_data"
    }
   ],
   "source": [
    "sns.countplot(data.Credit_Mix)\n"
   ]
  },
  {
   "cell_type": "code",
   "execution_count": 41,
   "metadata": {},
   "outputs": [
    {
     "data": {
      "text/plain": [
       "Credit_History_Age\n",
       "19 Years and 4 Months     415\n",
       "15 Years and 11 Months    415\n",
       "17 Years and 9 Months     415\n",
       "19 Years and 5 Months     413\n",
       "15 Years and 9 Months     410\n",
       "                         ... \n",
       "0 Years and 3 Months       20\n",
       "0 Years and 2 Months       13\n",
       "33 Years and 7 Months      12\n",
       "33 Years and 8 Months      12\n",
       "0 Years and 1 Months        2\n",
       "Name: count, Length: 404, dtype: int64"
      ]
     },
     "execution_count": 41,
     "metadata": {},
     "output_type": "execute_result"
    }
   ],
   "source": [
    "data.Credit_History_Age.value_counts()\n"
   ]
  },
  {
   "cell_type": "code",
   "execution_count": 42,
   "metadata": {},
   "outputs": [
    {
     "data": {
      "text/plain": [
       "False"
      ]
     },
     "execution_count": 42,
     "metadata": {},
     "output_type": "execute_result"
    }
   ],
   "source": [
    "data.Credit_History_Age[data.Credit_History_Age == '_'].any()"
   ]
  },
  {
   "cell_type": "code",
   "execution_count": 43,
   "metadata": {},
   "outputs": [
    {
     "data": {
      "text/plain": [
       "Payment_of_Min_Amount\n",
       "Yes    48570\n",
       "No     33071\n",
       "NM     11120\n",
       "Name: count, dtype: int64"
      ]
     },
     "execution_count": 43,
     "metadata": {},
     "output_type": "execute_result"
    }
   ],
   "source": [
    "data.Payment_of_Min_Amount.value_counts()\n"
   ]
  },
  {
   "cell_type": "code",
   "execution_count": 44,
   "metadata": {},
   "outputs": [],
   "source": [
    "data.loc[data.Payment_of_Min_Amount == 'NM','Payment_of_Min_Amount'] = np.nan"
   ]
  },
  {
   "cell_type": "code",
   "execution_count": 45,
   "metadata": {},
   "outputs": [
    {
     "data": {
      "text/plain": [
       "<Axes: xlabel='count', ylabel='Payment_of_Min_Amount'>"
      ]
     },
     "execution_count": 45,
     "metadata": {},
     "output_type": "execute_result"
    },
    {
     "data": {
      "image/png": "[encoded data removed]",
      "text/plain": [
       "<Figure size 640x480 with 1 Axes>"
      ]
     },
     "metadata": {},
     "output_type": "display_data"
    }
   ],
   "source": [
    "sns.countplot(data.Payment_of_Min_Amount)"
   ]
  },
  {
   "cell_type": "code",
   "execution_count": 46,
   "metadata": {},
   "outputs": [
    {
     "data": {
      "text/plain": [
       "Payment_Behaviour\n",
       "Low_spent_Small_value_payments      23630\n",
       "High_spent_Medium_value_payments    16268\n",
       "Low_spent_Medium_value_payments     12878\n",
       "High_spent_Large_value_payments     12697\n",
       "High_spent_Small_value_payments     10534\n",
       "Low_spent_Large_value_payments       9717\n",
       "!@9#%8                               7037\n",
       "Name: count, dtype: int64"
      ]
     },
     "execution_count": 46,
     "metadata": {},
     "output_type": "execute_result"
    }
   ],
   "source": [
    "data.Payment_Behaviour.value_counts()  \n"
   ]
  },
  {
   "cell_type": "code",
   "execution_count": 47,
   "metadata": {},
   "outputs": [],
   "source": [
    "data.loc[data.Payment_Behaviour == '!@9#%8','Payment_Behaviour'] = np.nan"
   ]
  },
  {
   "cell_type": "code",
   "execution_count": 48,
   "metadata": {},
   "outputs": [
    {
     "data": {
      "text/plain": [
       "<Axes: xlabel='count', ylabel='Payment_Behaviour'>"
      ]
     },
     "execution_count": 48,
     "metadata": {},
     "output_type": "execute_result"
    },
    {
     "data": {
      "image/png": "[encoded data removed]",
      "text/plain": [
       "<Figure size 640x480 with 1 Axes>"
      ]
     },
     "metadata": {},
     "output_type": "display_data"
    }
   ],
   "source": [
    "sns.countplot(data.Payment_Behaviour)\n"
   ]
  },
  {
   "cell_type": "code",
   "execution_count": 49,
   "metadata": {},
   "outputs": [
    {
     "data": {
      "text/plain": [
       "Credit_Score\n",
       "Standard    49370\n",
       "Poor        26925\n",
       "Good        16466\n",
       "Name: count, dtype: int64"
      ]
     },
     "execution_count": 49,
     "metadata": {},
     "output_type": "execute_result"
    }
   ],
   "source": [
    "data.Credit_Score.value_counts()\n"
   ]
  },
  {
   "cell_type": "code",
   "execution_count": 50,
   "metadata": {},
   "outputs": [
    {
     "data": {
      "text/plain": [
       "Customer_ID                     0\n",
       "Age                             0\n",
       "Occupation                      8\n",
       "Annual_Income                   0\n",
       "Monthly_Inhand_Salary           0\n",
       "Num_Bank_Accounts               0\n",
       "Num_Credit_Card                 0\n",
       "Interest_Rate                   0\n",
       "Num_of_Loan                     0\n",
       "Type_of_Loan                10574\n",
       "Delay_from_due_date             0\n",
       "Num_of_Delayed_Payment          0\n",
       "Changed_Credit_Limit            0\n",
       "Num_Credit_Inquiries            0\n",
       "Credit_Mix                  18767\n",
       "Outstanding_Debt                0\n",
       "Credit_Utilization_Ratio        0\n",
       "Credit_History_Age           8418\n",
       "Payment_of_Min_Amount       11120\n",
       "Total_EMI_per_month             0\n",
       "Amount_invested_monthly         0\n",
       "Payment_Behaviour            7037\n",
       "Monthly_Balance                 0\n",
       "Credit_Score                    0\n",
       "dtype: int64"
      ]
     },
     "execution_count": 50,
     "metadata": {},
     "output_type": "execute_result"
    }
   ],
   "source": [
    "data.isnull().sum()\n"
   ]
  },
  {
   "cell_type": "code",
   "execution_count": 51,
   "metadata": {},
   "outputs": [],
   "source": [
    "data.drop(['Customer_ID'],axis=1,inplace=True)"
   ]
  },
  {
   "cell_type": "code",
   "execution_count": 52,
   "metadata": {},
   "outputs": [],
   "source": [
    "categorical = categorical.drop('Customer_ID')\n",
    "categorical = categorical.drop('Credit_Score')"
   ]
  },
  {
   "cell_type": "code",
   "execution_count": 53,
   "metadata": {},
   "outputs": [],
   "source": [
    "imputer = SimpleImputer(strategy='most_frequent')\n",
    "imputed_categorical = pd.DataFrame(imputer.fit_transform(data[categorical]),columns=categorical)"
   ]
  },
  {
   "cell_type": "code",
   "execution_count": 54,
   "metadata": {},
   "outputs": [],
   "source": [
    "data[categorical] = imputed_categorical\n"
   ]
  },
  {
   "cell_type": "code",
   "execution_count": 55,
   "metadata": {},
   "outputs": [
    {
     "data": {
      "text/plain": [
       "Age                         0\n",
       "Occupation                  0\n",
       "Annual_Income               0\n",
       "Monthly_Inhand_Salary       0\n",
       "Num_Bank_Accounts           0\n",
       "Num_Credit_Card             0\n",
       "Interest_Rate               0\n",
       "Num_of_Loan                 0\n",
       "Type_of_Loan                0\n",
       "Delay_from_due_date         0\n",
       "Num_of_Delayed_Payment      0\n",
       "Changed_Credit_Limit        0\n",
       "Num_Credit_Inquiries        0\n",
       "Credit_Mix                  0\n",
       "Outstanding_Debt            0\n",
       "Credit_Utilization_Ratio    0\n",
       "Credit_History_Age          0\n",
       "Payment_of_Min_Amount       0\n",
       "Total_EMI_per_month         0\n",
       "Amount_invested_monthly     0\n",
       "Payment_Behaviour           0\n",
       "Monthly_Balance             0\n",
       "Credit_Score                0\n",
       "dtype: int64"
      ]
     },
     "execution_count": 55,
     "metadata": {},
     "output_type": "execute_result"
    }
   ],
   "source": [
    "data.isnull().sum()\n"
   ]
  },
  {
   "cell_type": "code",
   "execution_count": 89,
   "metadata": {},
   "outputs": [],
   "source": [
    "data[\"Credit_Score\"] = data[\"Credit_Score\"].map({'Poor':0,'Good':1,'Standard':2})"
   ]
  },
  {
   "cell_type": "code",
   "execution_count": 92,
   "metadata": {},
   "outputs": [],
   "source": [
    "data[\"Credit_Score\"].unique()\n",
    "data.to_csv('output.csv', index=False)"
   ]
  },
  {
   "cell_type": "code",
   "execution_count": 96,
   "metadata": {},
   "outputs": [
    {
     "data": {
      "text/plain": [
       "Age                         0\n",
       "Occupation                  0\n",
       "Annual_Income               0\n",
       "Num_Bank_Accounts           0\n",
       "Num_Credit_Card             0\n",
       "Interest_Rate               0\n",
       "Num_of_Loan                 0\n",
       "Type_of_Loan                0\n",
       "Delay_from_due_date         0\n",
       "Num_of_Delayed_Payment      0\n",
       "Changed_Credit_Limit        0\n",
       "Num_Credit_Inquiries        0\n",
       "Credit_Mix                  0\n",
       "Outstanding_Debt            0\n",
       "Credit_Utilization_Ratio    0\n",
       "Credit_History_Age          0\n",
       "Payment_of_Min_Amount       0\n",
       "Total_EMI_per_month         0\n",
       "Amount_invested_monthly     0\n",
       "Payment_Behaviour           0\n",
       "Monthly_Balance             0\n",
       "Credit_Score                0\n",
       "dtype: int64"
      ]
     },
     "execution_count": 96,
     "metadata": {},
     "output_type": "execute_result"
    }
   ],
   "source": [
    "pd.read_csv(\"output.csv\").isnull().sum()"
   ]
  },
  {
   "cell_type": "code",
   "execution_count": 57,
   "metadata": {},
   "outputs": [
    {
     "data": {
      "text/plain": [
       "<Axes: >"
      ]
     },
     "execution_count": 57,
     "metadata": {},
     "output_type": "execute_result"
    },
    {
     "data": {
      "image/png": "[encoded data removed]",
      "text/plain": [
       "<Figure size 2000x2000 with 2 Axes>"
      ]
     },
     "metadata": {},
     "output_type": "display_data"
    }
   ],
   "source": [
    "plt.figure(figsize=(20,20))\n",
    "sns.heatmap(data[numerical].corr(),annot=True)"
   ]
  },
  {
   "cell_type": "code",
   "execution_count": 58,
   "metadata": {},
   "outputs": [
    {
     "data": {
      "text/plain": [
       "<Axes: >"
      ]
     },
     "execution_count": 58,
     "metadata": {},
     "output_type": "execute_result"
    },
    {
     "data": {
      "image/png": "[encoded data removed]",
      "text/plain": [
       "<Figure size 640x480 with 2 Axes>"
      ]
     },
     "metadata": {},
     "output_type": "display_data"
    }
   ],
   "source": [
    "sns.heatmap(data[['Annual_Income','Monthly_Inhand_Salary']].corr(),annot=True)"
   ]
  },
  {
   "cell_type": "code",
   "execution_count": 59,
   "metadata": {},
   "outputs": [],
   "source": [
    "data.drop(['Monthly_Inhand_Salary'],axis=1,inplace=True)\n"
   ]
  },
  {
   "cell_type": "code",
   "execution_count": 60,
   "metadata": {},
   "outputs": [
    {
     "data": {
      "text/plain": [
       "Index(['Age', 'Annual_Income', 'Num_Bank_Accounts', 'Num_Credit_Card',\n",
       "       'Interest_Rate', 'Num_of_Loan', 'Delay_from_due_date',\n",
       "       'Num_of_Delayed_Payment', 'Changed_Credit_Limit',\n",
       "       'Num_Credit_Inquiries', 'Outstanding_Debt', 'Credit_Utilization_Ratio',\n",
       "       'Total_EMI_per_month', 'Amount_invested_monthly', 'Monthly_Balance'],\n",
       "      dtype='object')"
      ]
     },
     "execution_count": 60,
     "metadata": {},
     "output_type": "execute_result"
    }
   ],
   "source": [
    "numerical = numerical.drop('Monthly_Inhand_Salary')\n",
    "numerical"
   ]
  },
  {
   "cell_type": "code",
   "execution_count": 61,
   "metadata": {},
   "outputs": [],
   "source": [
    "data[numerical] = StandardScaler().fit_transform(data[numerical])"
   ]
  },
  {
   "cell_type": "code",
   "execution_count": 62,
   "metadata": {},
   "outputs": [],
   "source": [
    "for col in categorical:\n",
    "    data[col] = LabelEncoder().fit_transform(data[col])"
   ]
  },
  {
   "cell_type": "code",
   "execution_count": 63,
   "metadata": {},
   "outputs": [
    {
     "data": {
      "text/html": [
       "<div>\n",
       "<style scoped>\n",
       "    .dataframe tbody tr th:only-of-type {\n",
       "        vertical-align: middle;\n",
       "    }\n",
       "\n",
       "    .dataframe tbody tr th {\n",
       "        vertical-align: top;\n",
       "    }\n",
       "\n",
       "    .dataframe thead th {\n",
       "        text-align: right;\n",
       "    }\n",
       "</style>\n",
       "<table border=\"1\" class=\"dataframe\">\n",
       "  <thead>\n",
       "    <tr style=\"text-align: right;\">\n",
       "      <th></th>\n",
       "      <th>Occupation</th>\n",
       "      <th>Type_of_Loan</th>\n",
       "      <th>Credit_Mix</th>\n",
       "      <th>Credit_History_Age</th>\n",
       "      <th>Payment_of_Min_Amount</th>\n",
       "      <th>Payment_Behaviour</th>\n",
       "    </tr>\n",
       "  </thead>\n",
       "  <tbody>\n",
       "    <tr>\n",
       "      <th>0</th>\n",
       "      <td>12</td>\n",
       "      <td>128</td>\n",
       "      <td>2</td>\n",
       "      <td>180</td>\n",
       "      <td>0</td>\n",
       "      <td>2</td>\n",
       "    </tr>\n",
       "    <tr>\n",
       "      <th>1</th>\n",
       "      <td>12</td>\n",
       "      <td>128</td>\n",
       "      <td>1</td>\n",
       "      <td>86</td>\n",
       "      <td>0</td>\n",
       "      <td>3</td>\n",
       "    </tr>\n",
       "    <tr>\n",
       "      <th>2</th>\n",
       "      <td>12</td>\n",
       "      <td>128</td>\n",
       "      <td>1</td>\n",
       "      <td>184</td>\n",
       "      <td>0</td>\n",
       "      <td>4</td>\n",
       "    </tr>\n",
       "    <tr>\n",
       "      <th>3</th>\n",
       "      <td>12</td>\n",
       "      <td>128</td>\n",
       "      <td>1</td>\n",
       "      <td>185</td>\n",
       "      <td>0</td>\n",
       "      <td>5</td>\n",
       "    </tr>\n",
       "    <tr>\n",
       "      <th>4</th>\n",
       "      <td>12</td>\n",
       "      <td>128</td>\n",
       "      <td>1</td>\n",
       "      <td>186</td>\n",
       "      <td>0</td>\n",
       "      <td>1</td>\n",
       "    </tr>\n",
       "    <tr>\n",
       "      <th>...</th>\n",
       "      <td>...</td>\n",
       "      <td>...</td>\n",
       "      <td>...</td>\n",
       "      <td>...</td>\n",
       "      <td>...</td>\n",
       "      <td>...</td>\n",
       "    </tr>\n",
       "    <tr>\n",
       "      <th>92756</th>\n",
       "      <td>9</td>\n",
       "      <td>683</td>\n",
       "      <td>2</td>\n",
       "      <td>307</td>\n",
       "      <td>0</td>\n",
       "      <td>0</td>\n",
       "    </tr>\n",
       "    <tr>\n",
       "      <th>92757</th>\n",
       "      <td>9</td>\n",
       "      <td>683</td>\n",
       "      <td>2</td>\n",
       "      <td>308</td>\n",
       "      <td>0</td>\n",
       "      <td>1</td>\n",
       "    </tr>\n",
       "    <tr>\n",
       "      <th>92758</th>\n",
       "      <td>9</td>\n",
       "      <td>683</td>\n",
       "      <td>1</td>\n",
       "      <td>309</td>\n",
       "      <td>0</td>\n",
       "      <td>0</td>\n",
       "    </tr>\n",
       "    <tr>\n",
       "      <th>92759</th>\n",
       "      <td>9</td>\n",
       "      <td>683</td>\n",
       "      <td>1</td>\n",
       "      <td>310</td>\n",
       "      <td>0</td>\n",
       "      <td>3</td>\n",
       "    </tr>\n",
       "    <tr>\n",
       "      <th>92760</th>\n",
       "      <td>9</td>\n",
       "      <td>683</td>\n",
       "      <td>1</td>\n",
       "      <td>301</td>\n",
       "      <td>0</td>\n",
       "      <td>5</td>\n",
       "    </tr>\n",
       "  </tbody>\n",
       "</table>\n",
       "<p>92761 rows × 6 columns</p>\n",
       "</div>"
      ],
      "text/plain": [
       "       Occupation  Type_of_Loan  Credit_Mix  Credit_History_Age  \\\n",
       "0              12           128           2                 180   \n",
       "1              12           128           1                  86   \n",
       "2              12           128           1                 184   \n",
       "3              12           128           1                 185   \n",
       "4              12           128           1                 186   \n",
       "...           ...           ...         ...                 ...   \n",
       "92756           9           683           2                 307   \n",
       "92757           9           683           2                 308   \n",
       "92758           9           683           1                 309   \n",
       "92759           9           683           1                 310   \n",
       "92760           9           683           1                 301   \n",
       "\n",
       "       Payment_of_Min_Amount  Payment_Behaviour  \n",
       "0                          0                  2  \n",
       "1                          0                  3  \n",
       "2                          0                  4  \n",
       "3                          0                  5  \n",
       "4                          0                  1  \n",
       "...                      ...                ...  \n",
       "92756                      0                  0  \n",
       "92757                      0                  1  \n",
       "92758                      0                  0  \n",
       "92759                      0                  3  \n",
       "92760                      0                  5  \n",
       "\n",
       "[92761 rows x 6 columns]"
      ]
     },
     "execution_count": 63,
     "metadata": {},
     "output_type": "execute_result"
    }
   ],
   "source": [
    "data[categorical]"
   ]
  },
  {
   "cell_type": "code",
   "execution_count": 64,
   "metadata": {},
   "outputs": [
    {
     "data": {
      "text/html": [
       "<div>\n",
       "<style scoped>\n",
       "    .dataframe tbody tr th:only-of-type {\n",
       "        vertical-align: middle;\n",
       "    }\n",
       "\n",
       "    .dataframe tbody tr th {\n",
       "        vertical-align: top;\n",
       "    }\n",
       "\n",
       "    .dataframe thead th {\n",
       "        text-align: right;\n",
       "    }\n",
       "</style>\n",
       "<table border=\"1\" class=\"dataframe\">\n",
       "  <thead>\n",
       "    <tr style=\"text-align: right;\">\n",
       "      <th></th>\n",
       "      <th>Age</th>\n",
       "      <th>Annual_Income</th>\n",
       "      <th>Num_Bank_Accounts</th>\n",
       "      <th>Num_Credit_Card</th>\n",
       "      <th>Interest_Rate</th>\n",
       "      <th>Num_of_Loan</th>\n",
       "      <th>Delay_from_due_date</th>\n",
       "      <th>Num_of_Delayed_Payment</th>\n",
       "      <th>Changed_Credit_Limit</th>\n",
       "      <th>Num_Credit_Inquiries</th>\n",
       "      <th>Outstanding_Debt</th>\n",
       "      <th>Credit_Utilization_Ratio</th>\n",
       "      <th>Total_EMI_per_month</th>\n",
       "      <th>Amount_invested_monthly</th>\n",
       "      <th>Monthly_Balance</th>\n",
       "    </tr>\n",
       "  </thead>\n",
       "  <tbody>\n",
       "    <tr>\n",
       "      <th>0</th>\n",
       "      <td>-0.954105</td>\n",
       "      <td>-0.820027</td>\n",
       "      <td>-0.895523</td>\n",
       "      <td>-0.710267</td>\n",
       "      <td>-0.149029</td>\n",
       "      <td>-0.052505</td>\n",
       "      <td>-1.215683</td>\n",
       "      <td>-1.099419e-01</td>\n",
       "      <td>1.302151e-01</td>\n",
       "      <td>-0.124469</td>\n",
       "      <td>-0.533729</td>\n",
       "      <td>-1.068518</td>\n",
       "      <td>-0.163218</td>\n",
       "      <td>-0.278789</td>\n",
       "      <td>1.014124e-02</td>\n",
       "    </tr>\n",
       "    <tr>\n",
       "      <th>1</th>\n",
       "      <td>-0.954105</td>\n",
       "      <td>-0.820027</td>\n",
       "      <td>-0.895523</td>\n",
       "      <td>-0.710267</td>\n",
       "      <td>-0.149029</td>\n",
       "      <td>-0.052505</td>\n",
       "      <td>-1.484870</td>\n",
       "      <td>1.616897e-17</td>\n",
       "      <td>1.302151e-01</td>\n",
       "      <td>-0.124469</td>\n",
       "      <td>-0.533729</td>\n",
       "      <td>-0.067286</td>\n",
       "      <td>-0.163218</td>\n",
       "      <td>-0.259810</td>\n",
       "      <td>1.014124e-02</td>\n",
       "    </tr>\n",
       "    <tr>\n",
       "      <th>2</th>\n",
       "      <td>-0.954105</td>\n",
       "      <td>-0.820027</td>\n",
       "      <td>-0.895523</td>\n",
       "      <td>-0.710267</td>\n",
       "      <td>-0.149029</td>\n",
       "      <td>-0.052505</td>\n",
       "      <td>-1.215683</td>\n",
       "      <td>-1.099419e-01</td>\n",
       "      <td>2.640080e-16</td>\n",
       "      <td>-0.124469</td>\n",
       "      <td>-0.533729</td>\n",
       "      <td>-0.719277</td>\n",
       "      <td>-0.163218</td>\n",
       "      <td>-0.278146</td>\n",
       "      <td>1.014124e-02</td>\n",
       "    </tr>\n",
       "    <tr>\n",
       "      <th>3</th>\n",
       "      <td>-0.954105</td>\n",
       "      <td>-0.820027</td>\n",
       "      <td>-0.895523</td>\n",
       "      <td>-0.710267</td>\n",
       "      <td>-0.149029</td>\n",
       "      <td>-0.052505</td>\n",
       "      <td>-1.081090</td>\n",
       "      <td>-1.235954e-01</td>\n",
       "      <td>-6.129015e-01</td>\n",
       "      <td>-0.124469</td>\n",
       "      <td>-0.533729</td>\n",
       "      <td>-0.178134</td>\n",
       "      <td>-0.163218</td>\n",
       "      <td>-0.219120</td>\n",
       "      <td>1.014124e-02</td>\n",
       "    </tr>\n",
       "    <tr>\n",
       "      <th>4</th>\n",
       "      <td>-0.954105</td>\n",
       "      <td>-0.820027</td>\n",
       "      <td>-0.895523</td>\n",
       "      <td>-0.710267</td>\n",
       "      <td>-0.149029</td>\n",
       "      <td>-0.052505</td>\n",
       "      <td>-1.013793</td>\n",
       "      <td>1.616897e-17</td>\n",
       "      <td>1.302151e-01</td>\n",
       "      <td>-0.124469</td>\n",
       "      <td>-0.533729</td>\n",
       "      <td>-1.464385</td>\n",
       "      <td>-0.163218</td>\n",
       "      <td>-0.298335</td>\n",
       "      <td>1.014124e-02</td>\n",
       "    </tr>\n",
       "    <tr>\n",
       "      <th>...</th>\n",
       "      <td>...</td>\n",
       "      <td>...</td>\n",
       "      <td>...</td>\n",
       "      <td>...</td>\n",
       "      <td>...</td>\n",
       "      <td>...</td>\n",
       "      <td>...</td>\n",
       "      <td>...</td>\n",
       "      <td>...</td>\n",
       "      <td>...</td>\n",
       "      <td>...</td>\n",
       "      <td>...</td>\n",
       "      <td>...</td>\n",
       "      <td>...</td>\n",
       "      <td>...</td>\n",
       "    </tr>\n",
       "    <tr>\n",
       "      <th>92756</th>\n",
       "      <td>-0.768403</td>\n",
       "      <td>-0.284616</td>\n",
       "      <td>-0.519324</td>\n",
       "      <td>0.207602</td>\n",
       "      <td>-0.140505</td>\n",
       "      <td>-0.085666</td>\n",
       "      <td>0.130251</td>\n",
       "      <td>-1.099419e-01</td>\n",
       "      <td>1.643984e-01</td>\n",
       "      <td>-0.129694</td>\n",
       "      <td>-0.799768</td>\n",
       "      <td>0.464103</td>\n",
       "      <td>-0.164958</td>\n",
       "      <td>-0.288535</td>\n",
       "      <td>-1.277510e-18</td>\n",
       "    </tr>\n",
       "    <tr>\n",
       "      <th>92757</th>\n",
       "      <td>-0.768403</td>\n",
       "      <td>-0.284616</td>\n",
       "      <td>-0.519324</td>\n",
       "      <td>0.207602</td>\n",
       "      <td>-0.140505</td>\n",
       "      <td>-0.085666</td>\n",
       "      <td>-0.206233</td>\n",
       "      <td>-1.099419e-01</td>\n",
       "      <td>1.643984e-01</td>\n",
       "      <td>-0.129694</td>\n",
       "      <td>-0.799768</td>\n",
       "      <td>1.617742</td>\n",
       "      <td>-0.164958</td>\n",
       "      <td>-0.291936</td>\n",
       "      <td>-1.277510e-18</td>\n",
       "    </tr>\n",
       "    <tr>\n",
       "      <th>92758</th>\n",
       "      <td>-0.768403</td>\n",
       "      <td>-0.284616</td>\n",
       "      <td>-0.519324</td>\n",
       "      <td>0.207602</td>\n",
       "      <td>12.053948</td>\n",
       "      <td>-0.085666</td>\n",
       "      <td>0.399437</td>\n",
       "      <td>-1.144930e-01</td>\n",
       "      <td>1.643984e-01</td>\n",
       "      <td>-0.129694</td>\n",
       "      <td>-0.799768</td>\n",
       "      <td>1.752590</td>\n",
       "      <td>-0.164958</td>\n",
       "      <td>-0.307052</td>\n",
       "      <td>-1.277510e-18</td>\n",
       "    </tr>\n",
       "    <tr>\n",
       "      <th>92759</th>\n",
       "      <td>-0.768403</td>\n",
       "      <td>-0.284616</td>\n",
       "      <td>-0.519324</td>\n",
       "      <td>0.207602</td>\n",
       "      <td>-0.140505</td>\n",
       "      <td>-0.085666</td>\n",
       "      <td>-0.071639</td>\n",
       "      <td>1.616897e-17</td>\n",
       "      <td>1.643984e-01</td>\n",
       "      <td>-0.129694</td>\n",
       "      <td>-0.799768</td>\n",
       "      <td>0.263682</td>\n",
       "      <td>-0.164958</td>\n",
       "      <td>-0.192949</td>\n",
       "      <td>-1.277510e-18</td>\n",
       "    </tr>\n",
       "    <tr>\n",
       "      <th>92760</th>\n",
       "      <td>-0.768403</td>\n",
       "      <td>-0.284616</td>\n",
       "      <td>-0.519324</td>\n",
       "      <td>0.207602</td>\n",
       "      <td>-0.140505</td>\n",
       "      <td>-0.085666</td>\n",
       "      <td>-0.206233</td>\n",
       "      <td>-1.144930e-01</td>\n",
       "      <td>1.643984e-01</td>\n",
       "      <td>-0.129694</td>\n",
       "      <td>-0.799768</td>\n",
       "      <td>0.372019</td>\n",
       "      <td>-0.164958</td>\n",
       "      <td>-0.235308</td>\n",
       "      <td>-1.277510e-18</td>\n",
       "    </tr>\n",
       "  </tbody>\n",
       "</table>\n",
       "<p>92761 rows × 15 columns</p>\n",
       "</div>"
      ],
      "text/plain": [
       "            Age  Annual_Income  Num_Bank_Accounts  Num_Credit_Card  \\\n",
       "0     -0.954105      -0.820027          -0.895523        -0.710267   \n",
       "1     -0.954105      -0.820027          -0.895523        -0.710267   \n",
       "2     -0.954105      -0.820027          -0.895523        -0.710267   \n",
       "3     -0.954105      -0.820027          -0.895523        -0.710267   \n",
       "4     -0.954105      -0.820027          -0.895523        -0.710267   \n",
       "...         ...            ...                ...              ...   \n",
       "92756 -0.768403      -0.284616          -0.519324         0.207602   \n",
       "92757 -0.768403      -0.284616          -0.519324         0.207602   \n",
       "92758 -0.768403      -0.284616          -0.519324         0.207602   \n",
       "92759 -0.768403      -0.284616          -0.519324         0.207602   \n",
       "92760 -0.768403      -0.284616          -0.519324         0.207602   \n",
       "\n",
       "       Interest_Rate  Num_of_Loan  Delay_from_due_date  \\\n",
       "0          -0.149029    -0.052505            -1.215683   \n",
       "1          -0.149029    -0.052505            -1.484870   \n",
       "2          -0.149029    -0.052505            -1.215683   \n",
       "3          -0.149029    -0.052505            -1.081090   \n",
       "4          -0.149029    -0.052505            -1.013793   \n",
       "...              ...          ...                  ...   \n",
       "92756      -0.140505    -0.085666             0.130251   \n",
       "92757      -0.140505    -0.085666            -0.206233   \n",
       "92758      12.053948    -0.085666             0.399437   \n",
       "92759      -0.140505    -0.085666            -0.071639   \n",
       "92760      -0.140505    -0.085666            -0.206233   \n",
       "\n",
       "       Num_of_Delayed_Payment  Changed_Credit_Limit  Num_Credit_Inquiries  \\\n",
       "0               -1.099419e-01          1.302151e-01             -0.124469   \n",
       "1                1.616897e-17          1.302151e-01             -0.124469   \n",
       "2               -1.099419e-01          2.640080e-16             -0.124469   \n",
       "3               -1.235954e-01         -6.129015e-01             -0.124469   \n",
       "4                1.616897e-17          1.302151e-01             -0.124469   \n",
       "...                       ...                   ...                   ...   \n",
       "92756           -1.099419e-01          1.643984e-01             -0.129694   \n",
       "92757           -1.099419e-01          1.643984e-01             -0.129694   \n",
       "92758           -1.144930e-01          1.643984e-01             -0.129694   \n",
       "92759            1.616897e-17          1.643984e-01             -0.129694   \n",
       "92760           -1.144930e-01          1.643984e-01             -0.129694   \n",
       "\n",
       "       Outstanding_Debt  Credit_Utilization_Ratio  Total_EMI_per_month  \\\n",
       "0             -0.533729                 -1.068518            -0.163218   \n",
       "1             -0.533729                 -0.067286            -0.163218   \n",
       "2             -0.533729                 -0.719277            -0.163218   \n",
       "3             -0.533729                 -0.178134            -0.163218   \n",
       "4             -0.533729                 -1.464385            -0.163218   \n",
       "...                 ...                       ...                  ...   \n",
       "92756         -0.799768                  0.464103            -0.164958   \n",
       "92757         -0.799768                  1.617742            -0.164958   \n",
       "92758         -0.799768                  1.752590            -0.164958   \n",
       "92759         -0.799768                  0.263682            -0.164958   \n",
       "92760         -0.799768                  0.372019            -0.164958   \n",
       "\n",
       "       Amount_invested_monthly  Monthly_Balance  \n",
       "0                    -0.278789     1.014124e-02  \n",
       "1                    -0.259810     1.014124e-02  \n",
       "2                    -0.278146     1.014124e-02  \n",
       "3                    -0.219120     1.014124e-02  \n",
       "4                    -0.298335     1.014124e-02  \n",
       "...                        ...              ...  \n",
       "92756                -0.288535    -1.277510e-18  \n",
       "92757                -0.291936    -1.277510e-18  \n",
       "92758                -0.307052    -1.277510e-18  \n",
       "92759                -0.192949    -1.277510e-18  \n",
       "92760                -0.235308    -1.277510e-18  \n",
       "\n",
       "[92761 rows x 15 columns]"
      ]
     },
     "execution_count": 64,
     "metadata": {},
     "output_type": "execute_result"
    }
   ],
   "source": [
    "data[numerical]"
   ]
  },
  {
   "cell_type": "code",
   "execution_count": 65,
   "metadata": {},
   "outputs": [],
   "source": [
    "X = data.drop('Credit_Score',axis=1)\n",
    "y = data.Credit_Score"
   ]
  },
  {
   "cell_type": "code",
   "execution_count": 66,
   "metadata": {},
   "outputs": [
    {
     "data": {
      "text/plain": [
       "Credit_Score\n",
       "Standard    49370\n",
       "Poor        26925\n",
       "Good        16466\n",
       "Name: count, dtype: int64"
      ]
     },
     "execution_count": 66,
     "metadata": {},
     "output_type": "execute_result"
    }
   ],
   "source": [
    "y.value_counts()"
   ]
  },
  {
   "cell_type": "code",
   "execution_count": 67,
   "metadata": {},
   "outputs": [],
   "source": [
    "y = y.map({'Poor':0,'Good':1,'Standard':2})"
   ]
  },
  {
   "cell_type": "code",
   "execution_count": 68,
   "metadata": {},
   "outputs": [
    {
     "data": {
      "text/plain": [
       "((74208, 21), (18553, 21))"
      ]
     },
     "execution_count": 68,
     "metadata": {},
     "output_type": "execute_result"
    }
   ],
   "source": [
    "x_train,x_test,y_train,y_test = train_test_split(X,y,test_size=0.2,random_state=42)\n",
    "x_train.shape,x_test.shape"
   ]
  },
  {
   "cell_type": "code",
   "execution_count": 69,
   "metadata": {},
   "outputs": [
    {
     "data": {
      "text/html": [
       "<style>#sk-container-id-1 {color: black;}#sk-container-id-1 pre{padding: 0;}#sk-container-id-1 div.sk-toggleable {background-color: white;}#sk-container-id-1 label.sk-toggleable__label {cursor: pointer;display: block;width: 100%;margin-bottom: 0;padding: 0.3em;box-sizing: border-box;text-align: center;}#sk-container-id-1 label.sk-toggleable__label-arrow:before {content: \"▸\";float: left;margin-right: 0.25em;color: #696969;}#sk-container-id-1 label.sk-toggleable__label-arrow:hover:before {color: black;}#sk-container-id-1 div.sk-estimator:hover label.sk-toggleable__label-arrow:before {color: black;}#sk-container-id-1 div.sk-toggleable__content {max-height: 0;max-width: 0;overflow: hidden;text-align: left;background-color: #f0f8ff;}#sk-container-id-1 div.sk-toggleable__content pre {margin: 0.2em;color: black;border-radius: 0.25em;background-color: #f0f8ff;}#sk-container-id-1 input.sk-toggleable__control:checked~div.sk-toggleable__content {max-height: 200px;max-width: 100%;overflow: auto;}#sk-container-id-1 input.sk-toggleable__control:checked~label.sk-toggleable__label-arrow:before {content: \"▾\";}#sk-container-id-1 div.sk-estimator input.sk-toggleable__control:checked~label.sk-toggleable__label {background-color: #d4ebff;}#sk-container-id-1 div.sk-label input.sk-toggleable__control:checked~label.sk-toggleable__label {background-color: #d4ebff;}#sk-container-id-1 input.sk-hidden--visually {border: 0;clip: rect(1px 1px 1px 1px);clip: rect(1px, 1px, 1px, 1px);height: 1px;margin: -1px;overflow: hidden;padding: 0;position: absolute;width: 1px;}#sk-container-id-1 div.sk-estimator {font-family: monospace;background-color: #f0f8ff;border: 1px dotted black;border-radius: 0.25em;box-sizing: border-box;margin-bottom: 0.5em;}#sk-container-id-1 div.sk-estimator:hover {background-color: #d4ebff;}#sk-container-id-1 div.sk-parallel-item::after {content: \"\";width: 100%;border-bottom: 1px solid gray;flex-grow: 1;}#sk-container-id-1 div.sk-label:hover label.sk-toggleable__label {background-color: #d4ebff;}#sk-container-id-1 div.sk-serial::before {content: \"\";position: absolute;border-left: 1px solid gray;box-sizing: border-box;top: 0;bottom: 0;left: 50%;z-index: 0;}#sk-container-id-1 div.sk-serial {display: flex;flex-direction: column;align-items: center;background-color: white;padding-right: 0.2em;padding-left: 0.2em;position: relative;}#sk-container-id-1 div.sk-item {position: relative;z-index: 1;}#sk-container-id-1 div.sk-parallel {display: flex;align-items: stretch;justify-content: center;background-color: white;position: relative;}#sk-container-id-1 div.sk-item::before, #sk-container-id-1 div.sk-parallel-item::before {content: \"\";position: absolute;border-left: 1px solid gray;box-sizing: border-box;top: 0;bottom: 0;left: 50%;z-index: -1;}#sk-container-id-1 div.sk-parallel-item {display: flex;flex-direction: column;z-index: 1;position: relative;background-color: white;}#sk-container-id-1 div.sk-parallel-item:first-child::after {align-self: flex-end;width: 50%;}#sk-container-id-1 div.sk-parallel-item:last-child::after {align-self: flex-start;width: 50%;}#sk-container-id-1 div.sk-parallel-item:only-child::after {width: 0;}#sk-container-id-1 div.sk-dashed-wrapped {border: 1px dashed gray;margin: 0 0.4em 0.5em 0.4em;box-sizing: border-box;padding-bottom: 0.4em;background-color: white;}#sk-container-id-1 div.sk-label label {font-family: monospace;font-weight: bold;display: inline-block;line-height: 1.2em;}#sk-container-id-1 div.sk-label-container {text-align: center;}#sk-container-id-1 div.sk-container {/* jupyter's `normalize.less` sets `[hidden] { display: none; }` but bootstrap.min.css set `[hidden] { display: none !important; }` so we also need the `!important` here to be able to override the default hidden behavior on the sphinx rendered scikit-learn.org. See: https://github.com/scikit-learn/scikit-learn/issues/21755 */display: inline-block !important;position: relative;}#sk-container-id-1 div.sk-text-repr-fallback {display: none;}</style><div id=\"sk-container-id-1\" class=\"sk-top-container\"><div class=\"sk-text-repr-fallback\"><pre>RandomForestClassifier(random_state=1234)</pre><b>In a Jupyter environment, please rerun this cell to show the HTML representation or trust the notebook. <br />On GitHub, the HTML representation is unable to render, please try loading this page with nbviewer.org.</b></div><div class=\"sk-container\" hidden><div class=\"sk-item\"><div class=\"sk-estimator sk-toggleable\"><input class=\"sk-toggleable__control sk-hidden--visually\" id=\"sk-estimator-id-1\" type=\"checkbox\" checked><label for=\"sk-estimator-id-1\" class=\"sk-toggleable__label sk-toggleable__label-arrow\">RandomForestClassifier</label><div class=\"sk-toggleable__content\"><pre>RandomForestClassifier(random_state=1234)</pre></div></div></div></div></div>"
      ],
      "text/plain": [
       "RandomForestClassifier(random_state=1234)"
      ]
     },
     "execution_count": 69,
     "metadata": {},
     "output_type": "execute_result"
    }
   ],
   "source": [
    "model_rfc = RandomForestClassifier(random_state=1234)\n",
    "model_rfc.fit(x_train,y_train)"
   ]
  },
  {
   "cell_type": "code",
   "execution_count": 70,
   "metadata": {},
   "outputs": [],
   "source": [
    "y_pred = model_rfc.predict(x_test)"
   ]
  },
  {
   "cell_type": "code",
   "execution_count": 71,
   "metadata": {},
   "outputs": [
    {
     "name": "stdout",
     "output_type": "stream",
     "text": [
      "              precision    recall  f1-score   support\n",
      "\n",
      "           0       0.78      0.81      0.80      5293\n",
      "           1       0.75      0.73      0.74      3251\n",
      "           2       0.82      0.81      0.82     10009\n",
      "\n",
      "    accuracy                           0.80     18553\n",
      "   macro avg       0.79      0.78      0.78     18553\n",
      "weighted avg       0.80      0.80      0.80     18553\n",
      "\n",
      "accuracy_score 0.798038053145044\n"
     ]
    }
   ],
   "source": [
    "print(classification_report(y_test,y_pred))\n",
    "print(\"accuracy_score\", accuracy_score(y_test,y_pred))"
   ]
  },
  {
   "cell_type": "code",
   "execution_count": 72,
   "metadata": {},
   "outputs": [
    {
     "data": {
      "text/plain": [
       "<sklearn.metrics._plot.confusion_matrix.ConfusionMatrixDisplay at 0x1c775c52e80>"
      ]
     },
     "execution_count": 72,
     "metadata": {},
     "output_type": "execute_result"
    },
    {
     "data": {
      "image/png": "[encoded data removed]",
      "text/plain": [
       "<Figure size 640x480 with 2 Axes>"
      ]
     },
     "metadata": {},
     "output_type": "display_data"
    }
   ],
   "source": [
    "confusion_matrixDisply = ConfusionMatrixDisplay(confusion_matrix(y_test,y_pred),display_labels=['Poor','Good','Standard'])\n",
    "confusion_matrixDisply.plot()\n"
   ]
  },
  {
   "cell_type": "code",
   "execution_count": 73,
   "metadata": {},
   "outputs": [
    {
     "name": "stdout",
     "output_type": "stream",
     "text": [
      "accuracy_score 0.7611707001563089\n",
      "              precision    recall  f1-score   support\n",
      "\n",
      "           0       0.76      0.75      0.75      5293\n",
      "           1       0.68      0.68      0.68      3251\n",
      "           2       0.79      0.80      0.79     10009\n",
      "\n",
      "    accuracy                           0.76     18553\n",
      "   macro avg       0.74      0.74      0.74     18553\n",
      "weighted avg       0.76      0.76      0.76     18553\n",
      "\n"
     ]
    },
    {
     "data": {
      "text/plain": [
       "<sklearn.metrics._plot.confusion_matrix.ConfusionMatrixDisplay at 0x1c775c60730>"
      ]
     },
     "execution_count": 73,
     "metadata": {},
     "output_type": "execute_result"
    },
    {
     "data": {
      "image/png": "[encoded data removed]",
      "text/plain": [
       "<Figure size 640x480 with 2 Axes>"
      ]
     },
     "metadata": {},
     "output_type": "display_data"
    }
   ],
   "source": [
    "model = XGBClassifier(random_state=42)\n",
    "model.fit(x_train,y_train)\n",
    "y_pred = model.predict(x_test)\n",
    "print(\"accuracy_score\", accuracy_score(y_test,y_pred))\n",
    "print(classification_report(y_test,y_pred))\n",
    "confusion_matrixDisply = ConfusionMatrixDisplay(confusion_matrix(y_test,y_pred),display_labels=['Poor','Good','Standard'])\n",
    "confusion_matrixDisply.plot()"
   ]
  },
  {
   "cell_type": "code",
   "execution_count": 74,
   "metadata": {},
   "outputs": [
    {
     "name": "stdout",
     "output_type": "stream",
     "text": [
      "Learning rate set to 0.098564\n",
      "0:\tlearn: 1.0369908\ttotal: 142ms\tremaining: 2m 21s\n",
      "1:\tlearn: 0.9884776\ttotal: 175ms\tremaining: 1m 27s\n",
      "2:\tlearn: 0.9480281\ttotal: 207ms\tremaining: 1m 8s\n",
      "3:\tlearn: 0.9139904\ttotal: 235ms\tremaining: 58.4s\n",
      "4:\tlearn: 0.8859311\ttotal: 261ms\tremaining: 51.9s\n",
      "5:\tlearn: 0.8614507\ttotal: 288ms\tremaining: 47.7s\n",
      "6:\tlearn: 0.8408871\ttotal: 316ms\tremaining: 44.8s\n",
      "7:\tlearn: 0.8249443\ttotal: 343ms\tremaining: 42.5s\n",
      "8:\tlearn: 0.8095158\ttotal: 373ms\tremaining: 41s\n",
      "9:\tlearn: 0.7958784\ttotal: 399ms\tremaining: 39.5s\n",
      "10:\tlearn: 0.7843223\ttotal: 427ms\tremaining: 38.4s\n",
      "11:\tlearn: 0.7745967\ttotal: 454ms\tremaining: 37.4s\n",
      "12:\tlearn: 0.7651788\ttotal: 482ms\tremaining: 36.6s\n",
      "13:\tlearn: 0.7573037\ttotal: 509ms\tremaining: 35.8s\n",
      "14:\tlearn: 0.7499377\ttotal: 536ms\tremaining: 35.2s\n",
      "15:\tlearn: 0.7434163\ttotal: 569ms\tremaining: 35s\n",
      "16:\tlearn: 0.7383974\ttotal: 595ms\tremaining: 34.4s\n",
      "17:\tlearn: 0.7330918\ttotal: 626ms\tremaining: 34.1s\n",
      "18:\tlearn: 0.7288416\ttotal: 657ms\tremaining: 33.9s\n",
      "19:\tlearn: 0.7253904\ttotal: 684ms\tremaining: 33.5s\n",
      "20:\tlearn: 0.7217251\ttotal: 715ms\tremaining: 33.3s\n",
      "21:\tlearn: 0.7180310\ttotal: 747ms\tremaining: 33.2s\n",
      "22:\tlearn: 0.7156239\ttotal: 772ms\tremaining: 32.8s\n",
      "23:\tlearn: 0.7127908\ttotal: 800ms\tremaining: 32.5s\n",
      "24:\tlearn: 0.7104138\ttotal: 829ms\tremaining: 32.3s\n",
      "25:\tlearn: 0.7082241\ttotal: 856ms\tremaining: 32.1s\n",
      "26:\tlearn: 0.7062107\ttotal: 885ms\tremaining: 31.9s\n",
      "27:\tlearn: 0.7046082\ttotal: 914ms\tremaining: 31.7s\n",
      "28:\tlearn: 0.7031525\ttotal: 939ms\tremaining: 31.4s\n",
      "29:\tlearn: 0.7020191\ttotal: 964ms\tremaining: 31.2s\n",
      "30:\tlearn: 0.7001239\ttotal: 991ms\tremaining: 31s\n",
      "31:\tlearn: 0.6989240\ttotal: 1.01s\tremaining: 30.7s\n",
      "32:\tlearn: 0.6979531\ttotal: 1.04s\tremaining: 30.4s\n",
      "33:\tlearn: 0.6970530\ttotal: 1.06s\tremaining: 30.2s\n",
      "34:\tlearn: 0.6957002\ttotal: 1.09s\tremaining: 30s\n",
      "35:\tlearn: 0.6947726\ttotal: 1.12s\tremaining: 29.9s\n",
      "36:\tlearn: 0.6933832\ttotal: 1.14s\tremaining: 29.8s\n",
      "37:\tlearn: 0.6925910\ttotal: 1.17s\tremaining: 29.6s\n",
      "38:\tlearn: 0.6917715\ttotal: 1.2s\tremaining: 29.5s\n",
      "39:\tlearn: 0.6907841\ttotal: 1.22s\tremaining: 29.4s\n",
      "40:\tlearn: 0.6897756\ttotal: 1.25s\tremaining: 29.3s\n",
      "41:\tlearn: 0.6891262\ttotal: 1.28s\tremaining: 29.1s\n",
      "42:\tlearn: 0.6885491\ttotal: 1.3s\tremaining: 28.9s\n",
      "43:\tlearn: 0.6878230\ttotal: 1.33s\tremaining: 28.9s\n",
      "44:\tlearn: 0.6872895\ttotal: 1.36s\tremaining: 28.8s\n",
      "45:\tlearn: 0.6868337\ttotal: 1.38s\tremaining: 28.7s\n",
      "46:\tlearn: 0.6863324\ttotal: 1.41s\tremaining: 28.6s\n",
      "47:\tlearn: 0.6857767\ttotal: 1.43s\tremaining: 28.4s\n",
      "48:\tlearn: 0.6852287\ttotal: 1.46s\tremaining: 28.3s\n",
      "49:\tlearn: 0.6843299\ttotal: 1.48s\tremaining: 28.1s\n",
      "50:\tlearn: 0.6835151\ttotal: 1.51s\tremaining: 28.1s\n",
      "51:\tlearn: 0.6830759\ttotal: 1.53s\tremaining: 27.9s\n",
      "52:\tlearn: 0.6826297\ttotal: 1.55s\tremaining: 27.7s\n",
      "53:\tlearn: 0.6820711\ttotal: 1.58s\tremaining: 27.6s\n",
      "54:\tlearn: 0.6816646\ttotal: 1.6s\tremaining: 27.5s\n",
      "55:\tlearn: 0.6813662\ttotal: 1.62s\tremaining: 27.4s\n",
      "56:\tlearn: 0.6810285\ttotal: 1.65s\tremaining: 27.3s\n",
      "57:\tlearn: 0.6807192\ttotal: 1.67s\tremaining: 27.1s\n",
      "58:\tlearn: 0.6798888\ttotal: 1.7s\tremaining: 27.1s\n",
      "59:\tlearn: 0.6793946\ttotal: 1.72s\tremaining: 27s\n",
      "60:\tlearn: 0.6789969\ttotal: 1.75s\tremaining: 26.9s\n",
      "61:\tlearn: 0.6785705\ttotal: 1.77s\tremaining: 26.8s\n",
      "62:\tlearn: 0.6781099\ttotal: 1.8s\tremaining: 26.8s\n",
      "63:\tlearn: 0.6777930\ttotal: 1.82s\tremaining: 26.7s\n",
      "64:\tlearn: 0.6772418\ttotal: 1.85s\tremaining: 26.7s\n",
      "65:\tlearn: 0.6770108\ttotal: 1.88s\tremaining: 26.6s\n",
      "66:\tlearn: 0.6765255\ttotal: 1.9s\tremaining: 26.5s\n",
      "67:\tlearn: 0.6762810\ttotal: 1.93s\tremaining: 26.4s\n",
      "68:\tlearn: 0.6759563\ttotal: 1.96s\tremaining: 26.4s\n",
      "69:\tlearn: 0.6754849\ttotal: 1.98s\tremaining: 26.4s\n",
      "70:\tlearn: 0.6749150\ttotal: 2.02s\tremaining: 26.4s\n",
      "71:\tlearn: 0.6745991\ttotal: 2.04s\tremaining: 26.3s\n",
      "72:\tlearn: 0.6741542\ttotal: 2.07s\tremaining: 26.3s\n",
      "73:\tlearn: 0.6739118\ttotal: 2.09s\tremaining: 26.2s\n",
      "74:\tlearn: 0.6736196\ttotal: 2.12s\tremaining: 26.1s\n",
      "75:\tlearn: 0.6732303\ttotal: 2.14s\tremaining: 26.1s\n",
      "76:\tlearn: 0.6729966\ttotal: 2.17s\tremaining: 26s\n",
      "77:\tlearn: 0.6726184\ttotal: 2.2s\tremaining: 26s\n",
      "78:\tlearn: 0.6722580\ttotal: 2.22s\tremaining: 25.9s\n",
      "79:\tlearn: 0.6718109\ttotal: 2.25s\tremaining: 25.9s\n",
      "80:\tlearn: 0.6716619\ttotal: 2.27s\tremaining: 25.8s\n",
      "81:\tlearn: 0.6711750\ttotal: 2.31s\tremaining: 25.8s\n",
      "82:\tlearn: 0.6708155\ttotal: 2.33s\tremaining: 25.7s\n",
      "83:\tlearn: 0.6705613\ttotal: 2.35s\tremaining: 25.6s\n",
      "84:\tlearn: 0.6702657\ttotal: 2.38s\tremaining: 25.6s\n",
      "85:\tlearn: 0.6700650\ttotal: 2.4s\tremaining: 25.6s\n",
      "86:\tlearn: 0.6698462\ttotal: 2.43s\tremaining: 25.5s\n",
      "87:\tlearn: 0.6695902\ttotal: 2.46s\tremaining: 25.5s\n",
      "88:\tlearn: 0.6693234\ttotal: 2.48s\tremaining: 25.4s\n",
      "89:\tlearn: 0.6690103\ttotal: 2.51s\tremaining: 25.4s\n",
      "90:\tlearn: 0.6686843\ttotal: 2.54s\tremaining: 25.3s\n",
      "91:\tlearn: 0.6683835\ttotal: 2.56s\tremaining: 25.3s\n",
      "92:\tlearn: 0.6680753\ttotal: 2.59s\tremaining: 25.2s\n",
      "93:\tlearn: 0.6678439\ttotal: 2.61s\tremaining: 25.2s\n",
      "94:\tlearn: 0.6675424\ttotal: 2.64s\tremaining: 25.1s\n",
      "95:\tlearn: 0.6671020\ttotal: 2.67s\tremaining: 25.1s\n",
      "96:\tlearn: 0.6667859\ttotal: 2.69s\tremaining: 25.1s\n",
      "97:\tlearn: 0.6665495\ttotal: 2.72s\tremaining: 25s\n",
      "98:\tlearn: 0.6662479\ttotal: 2.74s\tremaining: 25s\n",
      "99:\tlearn: 0.6659823\ttotal: 2.77s\tremaining: 24.9s\n",
      "100:\tlearn: 0.6658875\ttotal: 2.79s\tremaining: 24.8s\n",
      "101:\tlearn: 0.6656375\ttotal: 2.81s\tremaining: 24.7s\n",
      "102:\tlearn: 0.6653731\ttotal: 2.84s\tremaining: 24.7s\n",
      "103:\tlearn: 0.6650847\ttotal: 2.86s\tremaining: 24.7s\n",
      "104:\tlearn: 0.6648716\ttotal: 2.89s\tremaining: 24.6s\n",
      "105:\tlearn: 0.6645665\ttotal: 2.91s\tremaining: 24.6s\n",
      "106:\tlearn: 0.6641050\ttotal: 2.94s\tremaining: 24.6s\n",
      "107:\tlearn: 0.6638096\ttotal: 2.97s\tremaining: 24.5s\n",
      "108:\tlearn: 0.6634928\ttotal: 3s\tremaining: 24.5s\n",
      "109:\tlearn: 0.6632001\ttotal: 3.02s\tremaining: 24.5s\n",
      "110:\tlearn: 0.6627844\ttotal: 3.05s\tremaining: 24.4s\n",
      "111:\tlearn: 0.6624583\ttotal: 3.08s\tremaining: 24.4s\n",
      "112:\tlearn: 0.6622224\ttotal: 3.1s\tremaining: 24.3s\n",
      "113:\tlearn: 0.6618807\ttotal: 3.13s\tremaining: 24.3s\n",
      "114:\tlearn: 0.6615968\ttotal: 3.15s\tremaining: 24.3s\n",
      "115:\tlearn: 0.6612587\ttotal: 3.18s\tremaining: 24.2s\n",
      "116:\tlearn: 0.6607519\ttotal: 3.21s\tremaining: 24.2s\n",
      "117:\tlearn: 0.6604484\ttotal: 3.23s\tremaining: 24.2s\n",
      "118:\tlearn: 0.6601572\ttotal: 3.26s\tremaining: 24.1s\n",
      "119:\tlearn: 0.6597556\ttotal: 3.28s\tremaining: 24.1s\n",
      "120:\tlearn: 0.6595293\ttotal: 3.3s\tremaining: 24s\n",
      "121:\tlearn: 0.6592046\ttotal: 3.33s\tremaining: 23.9s\n",
      "122:\tlearn: 0.6589574\ttotal: 3.35s\tremaining: 23.9s\n",
      "123:\tlearn: 0.6586643\ttotal: 3.37s\tremaining: 23.8s\n",
      "124:\tlearn: 0.6583960\ttotal: 3.4s\tremaining: 23.8s\n",
      "125:\tlearn: 0.6581107\ttotal: 3.42s\tremaining: 23.7s\n",
      "126:\tlearn: 0.6578334\ttotal: 3.44s\tremaining: 23.7s\n",
      "127:\tlearn: 0.6573624\ttotal: 3.47s\tremaining: 23.6s\n",
      "128:\tlearn: 0.6569792\ttotal: 3.49s\tremaining: 23.6s\n",
      "129:\tlearn: 0.6565397\ttotal: 3.52s\tremaining: 23.5s\n",
      "130:\tlearn: 0.6563279\ttotal: 3.54s\tremaining: 23.5s\n",
      "131:\tlearn: 0.6559897\ttotal: 3.56s\tremaining: 23.4s\n",
      "132:\tlearn: 0.6557333\ttotal: 3.59s\tremaining: 23.4s\n",
      "133:\tlearn: 0.6553369\ttotal: 3.61s\tremaining: 23.4s\n",
      "134:\tlearn: 0.6550711\ttotal: 3.64s\tremaining: 23.3s\n",
      "135:\tlearn: 0.6547575\ttotal: 3.67s\tremaining: 23.3s\n",
      "136:\tlearn: 0.6544195\ttotal: 3.7s\tremaining: 23.3s\n",
      "137:\tlearn: 0.6542150\ttotal: 3.72s\tremaining: 23.2s\n",
      "138:\tlearn: 0.6540276\ttotal: 3.75s\tremaining: 23.2s\n",
      "139:\tlearn: 0.6536969\ttotal: 3.77s\tremaining: 23.2s\n",
      "140:\tlearn: 0.6534951\ttotal: 3.79s\tremaining: 23.1s\n",
      "141:\tlearn: 0.6532744\ttotal: 3.82s\tremaining: 23.1s\n",
      "142:\tlearn: 0.6529355\ttotal: 3.85s\tremaining: 23.1s\n",
      "143:\tlearn: 0.6527231\ttotal: 3.87s\tremaining: 23s\n",
      "144:\tlearn: 0.6523281\ttotal: 3.89s\tremaining: 23s\n",
      "145:\tlearn: 0.6520164\ttotal: 3.92s\tremaining: 22.9s\n",
      "146:\tlearn: 0.6516196\ttotal: 3.94s\tremaining: 22.9s\n",
      "147:\tlearn: 0.6513931\ttotal: 3.96s\tremaining: 22.8s\n",
      "148:\tlearn: 0.6510347\ttotal: 3.99s\tremaining: 22.8s\n",
      "149:\tlearn: 0.6506533\ttotal: 4.01s\tremaining: 22.7s\n",
      "150:\tlearn: 0.6502905\ttotal: 4.04s\tremaining: 22.7s\n",
      "151:\tlearn: 0.6498706\ttotal: 4.06s\tremaining: 22.7s\n",
      "152:\tlearn: 0.6496635\ttotal: 4.08s\tremaining: 22.6s\n",
      "153:\tlearn: 0.6495589\ttotal: 4.11s\tremaining: 22.6s\n",
      "154:\tlearn: 0.6493784\ttotal: 4.13s\tremaining: 22.5s\n",
      "155:\tlearn: 0.6489785\ttotal: 4.15s\tremaining: 22.5s\n",
      "156:\tlearn: 0.6485720\ttotal: 4.18s\tremaining: 22.4s\n",
      "157:\tlearn: 0.6484325\ttotal: 4.2s\tremaining: 22.4s\n",
      "158:\tlearn: 0.6479524\ttotal: 4.23s\tremaining: 22.4s\n",
      "159:\tlearn: 0.6478116\ttotal: 4.25s\tremaining: 22.3s\n",
      "160:\tlearn: 0.6474791\ttotal: 4.28s\tremaining: 22.3s\n",
      "161:\tlearn: 0.6472681\ttotal: 4.3s\tremaining: 22.3s\n",
      "162:\tlearn: 0.6468381\ttotal: 4.33s\tremaining: 22.2s\n",
      "163:\tlearn: 0.6465643\ttotal: 4.36s\tremaining: 22.2s\n",
      "164:\tlearn: 0.6463175\ttotal: 4.38s\tremaining: 22.2s\n",
      "165:\tlearn: 0.6460353\ttotal: 4.44s\tremaining: 22.3s\n",
      "166:\tlearn: 0.6457644\ttotal: 4.47s\tremaining: 22.3s\n",
      "167:\tlearn: 0.6455049\ttotal: 4.5s\tremaining: 22.3s\n",
      "168:\tlearn: 0.6452148\ttotal: 4.53s\tremaining: 22.3s\n",
      "169:\tlearn: 0.6450706\ttotal: 4.55s\tremaining: 22.2s\n",
      "170:\tlearn: 0.6446715\ttotal: 4.58s\tremaining: 22.2s\n",
      "171:\tlearn: 0.6445039\ttotal: 4.61s\tremaining: 22.2s\n",
      "172:\tlearn: 0.6442261\ttotal: 4.63s\tremaining: 22.1s\n",
      "173:\tlearn: 0.6440405\ttotal: 4.66s\tremaining: 22.1s\n",
      "174:\tlearn: 0.6437599\ttotal: 4.68s\tremaining: 22.1s\n",
      "175:\tlearn: 0.6435079\ttotal: 4.71s\tremaining: 22s\n",
      "176:\tlearn: 0.6433316\ttotal: 4.73s\tremaining: 22s\n",
      "177:\tlearn: 0.6430109\ttotal: 4.76s\tremaining: 22s\n",
      "178:\tlearn: 0.6428385\ttotal: 4.79s\tremaining: 22s\n",
      "179:\tlearn: 0.6425974\ttotal: 4.81s\tremaining: 21.9s\n",
      "180:\tlearn: 0.6423824\ttotal: 4.84s\tremaining: 21.9s\n",
      "181:\tlearn: 0.6422198\ttotal: 4.86s\tremaining: 21.9s\n",
      "182:\tlearn: 0.6420342\ttotal: 4.89s\tremaining: 21.8s\n",
      "183:\tlearn: 0.6416081\ttotal: 4.91s\tremaining: 21.8s\n",
      "184:\tlearn: 0.6413831\ttotal: 4.94s\tremaining: 21.8s\n",
      "185:\tlearn: 0.6410713\ttotal: 4.96s\tremaining: 21.7s\n",
      "186:\tlearn: 0.6408860\ttotal: 4.99s\tremaining: 21.7s\n",
      "187:\tlearn: 0.6406703\ttotal: 5.01s\tremaining: 21.6s\n",
      "188:\tlearn: 0.6405264\ttotal: 5.03s\tremaining: 21.6s\n",
      "189:\tlearn: 0.6402869\ttotal: 5.06s\tremaining: 21.6s\n",
      "190:\tlearn: 0.6401496\ttotal: 5.08s\tremaining: 21.5s\n",
      "191:\tlearn: 0.6399425\ttotal: 5.11s\tremaining: 21.5s\n",
      "192:\tlearn: 0.6395439\ttotal: 5.14s\tremaining: 21.5s\n",
      "193:\tlearn: 0.6393465\ttotal: 5.16s\tremaining: 21.5s\n",
      "194:\tlearn: 0.6392143\ttotal: 5.19s\tremaining: 21.4s\n",
      "195:\tlearn: 0.6390180\ttotal: 5.21s\tremaining: 21.4s\n",
      "196:\tlearn: 0.6386557\ttotal: 5.24s\tremaining: 21.4s\n",
      "197:\tlearn: 0.6383373\ttotal: 5.26s\tremaining: 21.3s\n",
      "198:\tlearn: 0.6382103\ttotal: 5.29s\tremaining: 21.3s\n",
      "199:\tlearn: 0.6379691\ttotal: 5.32s\tremaining: 21.3s\n",
      "200:\tlearn: 0.6377203\ttotal: 5.34s\tremaining: 21.2s\n",
      "201:\tlearn: 0.6374228\ttotal: 5.37s\tremaining: 21.2s\n",
      "202:\tlearn: 0.6371846\ttotal: 5.39s\tremaining: 21.2s\n",
      "203:\tlearn: 0.6369038\ttotal: 5.42s\tremaining: 21.1s\n",
      "204:\tlearn: 0.6365176\ttotal: 5.44s\tremaining: 21.1s\n",
      "205:\tlearn: 0.6362463\ttotal: 5.47s\tremaining: 21.1s\n",
      "206:\tlearn: 0.6359784\ttotal: 5.49s\tremaining: 21s\n",
      "207:\tlearn: 0.6357188\ttotal: 5.52s\tremaining: 21s\n",
      "208:\tlearn: 0.6353450\ttotal: 5.55s\tremaining: 21s\n",
      "209:\tlearn: 0.6352624\ttotal: 5.57s\tremaining: 21s\n",
      "210:\tlearn: 0.6349901\ttotal: 5.6s\tremaining: 20.9s\n",
      "211:\tlearn: 0.6347747\ttotal: 5.62s\tremaining: 20.9s\n",
      "212:\tlearn: 0.6344700\ttotal: 5.65s\tremaining: 20.9s\n",
      "213:\tlearn: 0.6342572\ttotal: 5.68s\tremaining: 20.9s\n",
      "214:\tlearn: 0.6340427\ttotal: 5.7s\tremaining: 20.8s\n",
      "215:\tlearn: 0.6338682\ttotal: 5.73s\tremaining: 20.8s\n",
      "216:\tlearn: 0.6335559\ttotal: 5.75s\tremaining: 20.8s\n",
      "217:\tlearn: 0.6331431\ttotal: 5.78s\tremaining: 20.7s\n",
      "218:\tlearn: 0.6328792\ttotal: 5.8s\tremaining: 20.7s\n",
      "219:\tlearn: 0.6327090\ttotal: 5.83s\tremaining: 20.7s\n",
      "220:\tlearn: 0.6322480\ttotal: 5.86s\tremaining: 20.6s\n",
      "221:\tlearn: 0.6319820\ttotal: 5.88s\tremaining: 20.6s\n",
      "222:\tlearn: 0.6318775\ttotal: 5.91s\tremaining: 20.6s\n",
      "223:\tlearn: 0.6315967\ttotal: 5.93s\tremaining: 20.6s\n",
      "224:\tlearn: 0.6312817\ttotal: 5.96s\tremaining: 20.5s\n",
      "225:\tlearn: 0.6309089\ttotal: 5.98s\tremaining: 20.5s\n",
      "226:\tlearn: 0.6306924\ttotal: 6.01s\tremaining: 20.5s\n",
      "227:\tlearn: 0.6304043\ttotal: 6.03s\tremaining: 20.4s\n",
      "228:\tlearn: 0.6302252\ttotal: 6.06s\tremaining: 20.4s\n",
      "229:\tlearn: 0.6300236\ttotal: 6.09s\tremaining: 20.4s\n",
      "230:\tlearn: 0.6297189\ttotal: 6.11s\tremaining: 20.3s\n",
      "231:\tlearn: 0.6295472\ttotal: 6.14s\tremaining: 20.3s\n",
      "232:\tlearn: 0.6292796\ttotal: 6.17s\tremaining: 20.3s\n",
      "233:\tlearn: 0.6291490\ttotal: 6.19s\tremaining: 20.3s\n",
      "234:\tlearn: 0.6289681\ttotal: 6.22s\tremaining: 20.3s\n",
      "235:\tlearn: 0.6288105\ttotal: 6.25s\tremaining: 20.2s\n",
      "236:\tlearn: 0.6285784\ttotal: 6.28s\tremaining: 20.2s\n",
      "237:\tlearn: 0.6284288\ttotal: 6.3s\tremaining: 20.2s\n",
      "238:\tlearn: 0.6280913\ttotal: 6.33s\tremaining: 20.2s\n",
      "239:\tlearn: 0.6279232\ttotal: 6.36s\tremaining: 20.1s\n",
      "240:\tlearn: 0.6276089\ttotal: 6.39s\tremaining: 20.1s\n",
      "241:\tlearn: 0.6273051\ttotal: 6.41s\tremaining: 20.1s\n",
      "242:\tlearn: 0.6271052\ttotal: 6.44s\tremaining: 20.1s\n",
      "243:\tlearn: 0.6268744\ttotal: 6.46s\tremaining: 20s\n",
      "244:\tlearn: 0.6266775\ttotal: 6.49s\tremaining: 20s\n",
      "245:\tlearn: 0.6264315\ttotal: 6.51s\tremaining: 20s\n",
      "246:\tlearn: 0.6262946\ttotal: 6.54s\tremaining: 19.9s\n",
      "247:\tlearn: 0.6260405\ttotal: 6.57s\tremaining: 19.9s\n",
      "248:\tlearn: 0.6258089\ttotal: 6.61s\tremaining: 19.9s\n",
      "249:\tlearn: 0.6257192\ttotal: 6.63s\tremaining: 19.9s\n",
      "250:\tlearn: 0.6253036\ttotal: 6.66s\tremaining: 19.9s\n",
      "251:\tlearn: 0.6251130\ttotal: 6.68s\tremaining: 19.8s\n",
      "252:\tlearn: 0.6249848\ttotal: 6.71s\tremaining: 19.8s\n",
      "253:\tlearn: 0.6247600\ttotal: 6.74s\tremaining: 19.8s\n",
      "254:\tlearn: 0.6245418\ttotal: 6.77s\tremaining: 19.8s\n",
      "255:\tlearn: 0.6242459\ttotal: 6.79s\tremaining: 19.7s\n",
      "256:\tlearn: 0.6240767\ttotal: 6.82s\tremaining: 19.7s\n",
      "257:\tlearn: 0.6239545\ttotal: 6.86s\tremaining: 19.7s\n",
      "258:\tlearn: 0.6237528\ttotal: 6.88s\tremaining: 19.7s\n",
      "259:\tlearn: 0.6234776\ttotal: 6.91s\tremaining: 19.7s\n",
      "260:\tlearn: 0.6232988\ttotal: 6.94s\tremaining: 19.7s\n",
      "261:\tlearn: 0.6230939\ttotal: 6.97s\tremaining: 19.6s\n",
      "262:\tlearn: 0.6228209\ttotal: 7s\tremaining: 19.6s\n",
      "263:\tlearn: 0.6226012\ttotal: 7.03s\tremaining: 19.6s\n",
      "264:\tlearn: 0.6222614\ttotal: 7.06s\tremaining: 19.6s\n",
      "265:\tlearn: 0.6220965\ttotal: 7.08s\tremaining: 19.5s\n",
      "266:\tlearn: 0.6219422\ttotal: 7.11s\tremaining: 19.5s\n",
      "267:\tlearn: 0.6217361\ttotal: 7.13s\tremaining: 19.5s\n",
      "268:\tlearn: 0.6215952\ttotal: 7.16s\tremaining: 19.5s\n",
      "269:\tlearn: 0.6212923\ttotal: 7.18s\tremaining: 19.4s\n",
      "270:\tlearn: 0.6211551\ttotal: 7.21s\tremaining: 19.4s\n",
      "271:\tlearn: 0.6210193\ttotal: 7.23s\tremaining: 19.4s\n",
      "272:\tlearn: 0.6208457\ttotal: 7.26s\tremaining: 19.3s\n",
      "273:\tlearn: 0.6205878\ttotal: 7.28s\tremaining: 19.3s\n",
      "274:\tlearn: 0.6204156\ttotal: 7.31s\tremaining: 19.3s\n",
      "275:\tlearn: 0.6201201\ttotal: 7.33s\tremaining: 19.2s\n",
      "276:\tlearn: 0.6200044\ttotal: 7.36s\tremaining: 19.2s\n",
      "277:\tlearn: 0.6198199\ttotal: 7.39s\tremaining: 19.2s\n",
      "278:\tlearn: 0.6196124\ttotal: 7.42s\tremaining: 19.2s\n",
      "279:\tlearn: 0.6194025\ttotal: 7.44s\tremaining: 19.1s\n",
      "280:\tlearn: 0.6192676\ttotal: 7.47s\tremaining: 19.1s\n",
      "281:\tlearn: 0.6191302\ttotal: 7.49s\tremaining: 19.1s\n",
      "282:\tlearn: 0.6190009\ttotal: 7.52s\tremaining: 19s\n",
      "283:\tlearn: 0.6188545\ttotal: 7.54s\tremaining: 19s\n",
      "284:\tlearn: 0.6186131\ttotal: 7.57s\tremaining: 19s\n",
      "285:\tlearn: 0.6183731\ttotal: 7.59s\tremaining: 19s\n",
      "286:\tlearn: 0.6181020\ttotal: 7.62s\tremaining: 18.9s\n",
      "287:\tlearn: 0.6179237\ttotal: 7.65s\tremaining: 18.9s\n",
      "288:\tlearn: 0.6178400\ttotal: 7.67s\tremaining: 18.9s\n",
      "289:\tlearn: 0.6176379\ttotal: 7.7s\tremaining: 18.9s\n",
      "290:\tlearn: 0.6173993\ttotal: 7.73s\tremaining: 18.8s\n",
      "291:\tlearn: 0.6171459\ttotal: 7.75s\tremaining: 18.8s\n",
      "292:\tlearn: 0.6169593\ttotal: 7.78s\tremaining: 18.8s\n",
      "293:\tlearn: 0.6168095\ttotal: 7.81s\tremaining: 18.8s\n",
      "294:\tlearn: 0.6167577\ttotal: 7.83s\tremaining: 18.7s\n",
      "295:\tlearn: 0.6164766\ttotal: 7.86s\tremaining: 18.7s\n",
      "296:\tlearn: 0.6162739\ttotal: 7.89s\tremaining: 18.7s\n",
      "297:\tlearn: 0.6161051\ttotal: 7.91s\tremaining: 18.6s\n",
      "298:\tlearn: 0.6159210\ttotal: 7.94s\tremaining: 18.6s\n",
      "299:\tlearn: 0.6157880\ttotal: 7.96s\tremaining: 18.6s\n",
      "300:\tlearn: 0.6155470\ttotal: 7.99s\tremaining: 18.5s\n",
      "301:\tlearn: 0.6154117\ttotal: 8.01s\tremaining: 18.5s\n",
      "302:\tlearn: 0.6152185\ttotal: 8.04s\tremaining: 18.5s\n",
      "303:\tlearn: 0.6149897\ttotal: 8.06s\tremaining: 18.5s\n",
      "304:\tlearn: 0.6148255\ttotal: 8.09s\tremaining: 18.4s\n",
      "305:\tlearn: 0.6146632\ttotal: 8.11s\tremaining: 18.4s\n",
      "306:\tlearn: 0.6145379\ttotal: 8.14s\tremaining: 18.4s\n",
      "307:\tlearn: 0.6143744\ttotal: 8.17s\tremaining: 18.3s\n",
      "308:\tlearn: 0.6142029\ttotal: 8.19s\tremaining: 18.3s\n",
      "309:\tlearn: 0.6138827\ttotal: 8.21s\tremaining: 18.3s\n",
      "310:\tlearn: 0.6137138\ttotal: 8.24s\tremaining: 18.3s\n",
      "311:\tlearn: 0.6133573\ttotal: 8.27s\tremaining: 18.2s\n",
      "312:\tlearn: 0.6132077\ttotal: 8.29s\tremaining: 18.2s\n",
      "313:\tlearn: 0.6130133\ttotal: 8.32s\tremaining: 18.2s\n",
      "314:\tlearn: 0.6128002\ttotal: 8.34s\tremaining: 18.1s\n",
      "315:\tlearn: 0.6126877\ttotal: 8.37s\tremaining: 18.1s\n",
      "316:\tlearn: 0.6124421\ttotal: 8.39s\tremaining: 18.1s\n",
      "317:\tlearn: 0.6122972\ttotal: 8.42s\tremaining: 18.1s\n",
      "318:\tlearn: 0.6120882\ttotal: 8.45s\tremaining: 18s\n",
      "319:\tlearn: 0.6120125\ttotal: 8.47s\tremaining: 18s\n",
      "320:\tlearn: 0.6118542\ttotal: 8.5s\tremaining: 18s\n",
      "321:\tlearn: 0.6115575\ttotal: 8.53s\tremaining: 18s\n",
      "322:\tlearn: 0.6113089\ttotal: 8.55s\tremaining: 17.9s\n",
      "323:\tlearn: 0.6110986\ttotal: 8.57s\tremaining: 17.9s\n",
      "324:\tlearn: 0.6108162\ttotal: 8.6s\tremaining: 17.9s\n",
      "325:\tlearn: 0.6106389\ttotal: 8.63s\tremaining: 17.8s\n",
      "326:\tlearn: 0.6104461\ttotal: 8.65s\tremaining: 17.8s\n",
      "327:\tlearn: 0.6103087\ttotal: 8.68s\tremaining: 17.8s\n",
      "328:\tlearn: 0.6100784\ttotal: 8.71s\tremaining: 17.8s\n",
      "329:\tlearn: 0.6099180\ttotal: 8.73s\tremaining: 17.7s\n",
      "330:\tlearn: 0.6097823\ttotal: 8.76s\tremaining: 17.7s\n",
      "331:\tlearn: 0.6096346\ttotal: 8.78s\tremaining: 17.7s\n",
      "332:\tlearn: 0.6094902\ttotal: 8.81s\tremaining: 17.6s\n",
      "333:\tlearn: 0.6092990\ttotal: 8.83s\tremaining: 17.6s\n",
      "334:\tlearn: 0.6091491\ttotal: 8.86s\tremaining: 17.6s\n",
      "335:\tlearn: 0.6088024\ttotal: 8.88s\tremaining: 17.6s\n",
      "336:\tlearn: 0.6086147\ttotal: 8.91s\tremaining: 17.5s\n",
      "337:\tlearn: 0.6083947\ttotal: 8.94s\tremaining: 17.5s\n",
      "338:\tlearn: 0.6081721\ttotal: 8.96s\tremaining: 17.5s\n",
      "339:\tlearn: 0.6079904\ttotal: 8.99s\tremaining: 17.4s\n",
      "340:\tlearn: 0.6077317\ttotal: 9.01s\tremaining: 17.4s\n",
      "341:\tlearn: 0.6076251\ttotal: 9.03s\tremaining: 17.4s\n",
      "342:\tlearn: 0.6074033\ttotal: 9.06s\tremaining: 17.4s\n",
      "343:\tlearn: 0.6072844\ttotal: 9.09s\tremaining: 17.3s\n",
      "344:\tlearn: 0.6070399\ttotal: 9.12s\tremaining: 17.3s\n",
      "345:\tlearn: 0.6069044\ttotal: 9.14s\tremaining: 17.3s\n",
      "346:\tlearn: 0.6066643\ttotal: 9.16s\tremaining: 17.2s\n",
      "347:\tlearn: 0.6065204\ttotal: 9.19s\tremaining: 17.2s\n",
      "348:\tlearn: 0.6062135\ttotal: 9.22s\tremaining: 17.2s\n",
      "349:\tlearn: 0.6059820\ttotal: 9.24s\tremaining: 17.2s\n",
      "350:\tlearn: 0.6058602\ttotal: 9.27s\tremaining: 17.1s\n",
      "351:\tlearn: 0.6056729\ttotal: 9.29s\tremaining: 17.1s\n",
      "352:\tlearn: 0.6055328\ttotal: 9.32s\tremaining: 17.1s\n",
      "353:\tlearn: 0.6052262\ttotal: 9.34s\tremaining: 17.1s\n",
      "354:\tlearn: 0.6049981\ttotal: 9.37s\tremaining: 17s\n",
      "355:\tlearn: 0.6047562\ttotal: 9.4s\tremaining: 17s\n",
      "356:\tlearn: 0.6046669\ttotal: 9.42s\tremaining: 17s\n",
      "357:\tlearn: 0.6045482\ttotal: 9.45s\tremaining: 16.9s\n",
      "358:\tlearn: 0.6043265\ttotal: 9.47s\tremaining: 16.9s\n",
      "359:\tlearn: 0.6041143\ttotal: 9.5s\tremaining: 16.9s\n",
      "360:\tlearn: 0.6038784\ttotal: 9.53s\tremaining: 16.9s\n",
      "361:\tlearn: 0.6037156\ttotal: 9.55s\tremaining: 16.8s\n",
      "362:\tlearn: 0.6035779\ttotal: 9.58s\tremaining: 16.8s\n",
      "363:\tlearn: 0.6034145\ttotal: 9.6s\tremaining: 16.8s\n",
      "364:\tlearn: 0.6033181\ttotal: 9.63s\tremaining: 16.7s\n",
      "365:\tlearn: 0.6031378\ttotal: 9.65s\tremaining: 16.7s\n",
      "366:\tlearn: 0.6029042\ttotal: 9.68s\tremaining: 16.7s\n",
      "367:\tlearn: 0.6026517\ttotal: 9.7s\tremaining: 16.7s\n",
      "368:\tlearn: 0.6025102\ttotal: 9.73s\tremaining: 16.6s\n",
      "369:\tlearn: 0.6024219\ttotal: 9.75s\tremaining: 16.6s\n",
      "370:\tlearn: 0.6023021\ttotal: 9.78s\tremaining: 16.6s\n",
      "371:\tlearn: 0.6022109\ttotal: 9.8s\tremaining: 16.6s\n",
      "372:\tlearn: 0.6020772\ttotal: 9.83s\tremaining: 16.5s\n",
      "373:\tlearn: 0.6018208\ttotal: 9.86s\tremaining: 16.5s\n",
      "374:\tlearn: 0.6017443\ttotal: 9.88s\tremaining: 16.5s\n",
      "375:\tlearn: 0.6015934\ttotal: 9.91s\tremaining: 16.4s\n",
      "376:\tlearn: 0.6014141\ttotal: 9.93s\tremaining: 16.4s\n",
      "377:\tlearn: 0.6012496\ttotal: 9.96s\tremaining: 16.4s\n",
      "378:\tlearn: 0.6010737\ttotal: 9.98s\tremaining: 16.4s\n",
      "379:\tlearn: 0.6008718\ttotal: 10s\tremaining: 16.3s\n",
      "380:\tlearn: 0.6007315\ttotal: 10s\tremaining: 16.3s\n",
      "381:\tlearn: 0.6005913\ttotal: 10.1s\tremaining: 16.3s\n",
      "382:\tlearn: 0.6004432\ttotal: 10.1s\tremaining: 16.2s\n",
      "383:\tlearn: 0.6002674\ttotal: 10.1s\tremaining: 16.2s\n",
      "384:\tlearn: 0.6001390\ttotal: 10.1s\tremaining: 16.2s\n",
      "385:\tlearn: 0.5999950\ttotal: 10.2s\tremaining: 16.2s\n",
      "386:\tlearn: 0.5997406\ttotal: 10.2s\tremaining: 16.1s\n",
      "387:\tlearn: 0.5994928\ttotal: 10.2s\tremaining: 16.1s\n",
      "388:\tlearn: 0.5993446\ttotal: 10.2s\tremaining: 16.1s\n",
      "389:\tlearn: 0.5991822\ttotal: 10.3s\tremaining: 16.1s\n",
      "390:\tlearn: 0.5990845\ttotal: 10.3s\tremaining: 16s\n",
      "391:\tlearn: 0.5989087\ttotal: 10.3s\tremaining: 16s\n",
      "392:\tlearn: 0.5987654\ttotal: 10.3s\tremaining: 16s\n",
      "393:\tlearn: 0.5986551\ttotal: 10.4s\tremaining: 16s\n",
      "394:\tlearn: 0.5985251\ttotal: 10.4s\tremaining: 15.9s\n",
      "395:\tlearn: 0.5984121\ttotal: 10.4s\tremaining: 15.9s\n",
      "396:\tlearn: 0.5982609\ttotal: 10.4s\tremaining: 15.9s\n",
      "397:\tlearn: 0.5980321\ttotal: 10.5s\tremaining: 15.8s\n",
      "398:\tlearn: 0.5979038\ttotal: 10.5s\tremaining: 15.8s\n",
      "399:\tlearn: 0.5977488\ttotal: 10.5s\tremaining: 15.8s\n",
      "400:\tlearn: 0.5975472\ttotal: 10.6s\tremaining: 15.8s\n",
      "401:\tlearn: 0.5974378\ttotal: 10.6s\tremaining: 15.7s\n",
      "402:\tlearn: 0.5972567\ttotal: 10.6s\tremaining: 15.7s\n",
      "403:\tlearn: 0.5970161\ttotal: 10.6s\tremaining: 15.7s\n",
      "404:\tlearn: 0.5968949\ttotal: 10.7s\tremaining: 15.7s\n",
      "405:\tlearn: 0.5966246\ttotal: 10.7s\tremaining: 15.6s\n",
      "406:\tlearn: 0.5964717\ttotal: 10.7s\tremaining: 15.6s\n",
      "407:\tlearn: 0.5962618\ttotal: 10.7s\tremaining: 15.6s\n",
      "408:\tlearn: 0.5961467\ttotal: 10.8s\tremaining: 15.6s\n",
      "409:\tlearn: 0.5958587\ttotal: 10.8s\tremaining: 15.6s\n",
      "410:\tlearn: 0.5957105\ttotal: 10.8s\tremaining: 15.5s\n",
      "411:\tlearn: 0.5956336\ttotal: 10.9s\tremaining: 15.5s\n",
      "412:\tlearn: 0.5955050\ttotal: 10.9s\tremaining: 15.5s\n",
      "413:\tlearn: 0.5953485\ttotal: 10.9s\tremaining: 15.4s\n",
      "414:\tlearn: 0.5952125\ttotal: 10.9s\tremaining: 15.4s\n",
      "415:\tlearn: 0.5949910\ttotal: 11s\tremaining: 15.4s\n",
      "416:\tlearn: 0.5948275\ttotal: 11s\tremaining: 15.4s\n",
      "417:\tlearn: 0.5947018\ttotal: 11s\tremaining: 15.3s\n",
      "418:\tlearn: 0.5945246\ttotal: 11s\tremaining: 15.3s\n",
      "419:\tlearn: 0.5943362\ttotal: 11.1s\tremaining: 15.3s\n",
      "420:\tlearn: 0.5941712\ttotal: 11.1s\tremaining: 15.3s\n",
      "421:\tlearn: 0.5940602\ttotal: 11.1s\tremaining: 15.2s\n",
      "422:\tlearn: 0.5936916\ttotal: 11.1s\tremaining: 15.2s\n",
      "423:\tlearn: 0.5935282\ttotal: 11.2s\tremaining: 15.2s\n",
      "424:\tlearn: 0.5932302\ttotal: 11.2s\tremaining: 15.1s\n",
      "425:\tlearn: 0.5930536\ttotal: 11.2s\tremaining: 15.1s\n",
      "426:\tlearn: 0.5928560\ttotal: 11.2s\tremaining: 15.1s\n",
      "427:\tlearn: 0.5926249\ttotal: 11.3s\tremaining: 15.1s\n",
      "428:\tlearn: 0.5924615\ttotal: 11.3s\tremaining: 15s\n",
      "429:\tlearn: 0.5923568\ttotal: 11.3s\tremaining: 15s\n",
      "430:\tlearn: 0.5921927\ttotal: 11.3s\tremaining: 15s\n",
      "431:\tlearn: 0.5919909\ttotal: 11.4s\tremaining: 14.9s\n",
      "432:\tlearn: 0.5918312\ttotal: 11.4s\tremaining: 14.9s\n",
      "433:\tlearn: 0.5916853\ttotal: 11.4s\tremaining: 14.9s\n",
      "434:\tlearn: 0.5914146\ttotal: 11.5s\tremaining: 14.9s\n",
      "435:\tlearn: 0.5912872\ttotal: 11.5s\tremaining: 14.8s\n",
      "436:\tlearn: 0.5911027\ttotal: 11.5s\tremaining: 14.8s\n",
      "437:\tlearn: 0.5908783\ttotal: 11.5s\tremaining: 14.8s\n",
      "438:\tlearn: 0.5907885\ttotal: 11.6s\tremaining: 14.8s\n",
      "439:\tlearn: 0.5906328\ttotal: 11.6s\tremaining: 14.7s\n",
      "440:\tlearn: 0.5904647\ttotal: 11.6s\tremaining: 14.7s\n",
      "441:\tlearn: 0.5903396\ttotal: 11.6s\tremaining: 14.7s\n",
      "442:\tlearn: 0.5901949\ttotal: 11.7s\tremaining: 14.7s\n",
      "443:\tlearn: 0.5900440\ttotal: 11.7s\tremaining: 14.6s\n",
      "444:\tlearn: 0.5898744\ttotal: 11.7s\tremaining: 14.6s\n",
      "445:\tlearn: 0.5897347\ttotal: 11.7s\tremaining: 14.6s\n",
      "446:\tlearn: 0.5896328\ttotal: 11.8s\tremaining: 14.6s\n",
      "447:\tlearn: 0.5893870\ttotal: 11.8s\tremaining: 14.5s\n",
      "448:\tlearn: 0.5891864\ttotal: 11.8s\tremaining: 14.5s\n",
      "449:\tlearn: 0.5890076\ttotal: 11.8s\tremaining: 14.5s\n",
      "450:\tlearn: 0.5887923\ttotal: 11.9s\tremaining: 14.5s\n",
      "451:\tlearn: 0.5886236\ttotal: 11.9s\tremaining: 14.4s\n",
      "452:\tlearn: 0.5884030\ttotal: 11.9s\tremaining: 14.4s\n",
      "453:\tlearn: 0.5882350\ttotal: 11.9s\tremaining: 14.4s\n",
      "454:\tlearn: 0.5879512\ttotal: 12s\tremaining: 14.3s\n",
      "455:\tlearn: 0.5878488\ttotal: 12s\tremaining: 14.3s\n",
      "456:\tlearn: 0.5877831\ttotal: 12s\tremaining: 14.3s\n",
      "457:\tlearn: 0.5876272\ttotal: 12.1s\tremaining: 14.3s\n",
      "458:\tlearn: 0.5874570\ttotal: 12.1s\tremaining: 14.2s\n",
      "459:\tlearn: 0.5872445\ttotal: 12.1s\tremaining: 14.2s\n",
      "460:\tlearn: 0.5869894\ttotal: 12.1s\tremaining: 14.2s\n",
      "461:\tlearn: 0.5867162\ttotal: 12.2s\tremaining: 14.2s\n",
      "462:\tlearn: 0.5864373\ttotal: 12.2s\tremaining: 14.1s\n",
      "463:\tlearn: 0.5863538\ttotal: 12.2s\tremaining: 14.1s\n",
      "464:\tlearn: 0.5862169\ttotal: 12.2s\tremaining: 14.1s\n",
      "465:\tlearn: 0.5861047\ttotal: 12.3s\tremaining: 14s\n",
      "466:\tlearn: 0.5860281\ttotal: 12.3s\tremaining: 14s\n",
      "467:\tlearn: 0.5858895\ttotal: 12.3s\tremaining: 14s\n",
      "468:\tlearn: 0.5858200\ttotal: 12.3s\tremaining: 14s\n",
      "469:\tlearn: 0.5855821\ttotal: 12.4s\tremaining: 13.9s\n",
      "470:\tlearn: 0.5854140\ttotal: 12.4s\tremaining: 13.9s\n",
      "471:\tlearn: 0.5852590\ttotal: 12.4s\tremaining: 13.9s\n",
      "472:\tlearn: 0.5851515\ttotal: 12.4s\tremaining: 13.9s\n",
      "473:\tlearn: 0.5849379\ttotal: 12.5s\tremaining: 13.8s\n",
      "474:\tlearn: 0.5846569\ttotal: 12.5s\tremaining: 13.8s\n",
      "475:\tlearn: 0.5844835\ttotal: 12.5s\tremaining: 13.8s\n",
      "476:\tlearn: 0.5842629\ttotal: 12.5s\tremaining: 13.8s\n",
      "477:\tlearn: 0.5841805\ttotal: 12.6s\tremaining: 13.7s\n",
      "478:\tlearn: 0.5840354\ttotal: 12.6s\tremaining: 13.7s\n",
      "479:\tlearn: 0.5838765\ttotal: 12.6s\tremaining: 13.7s\n",
      "480:\tlearn: 0.5837110\ttotal: 12.7s\tremaining: 13.7s\n",
      "481:\tlearn: 0.5835109\ttotal: 12.7s\tremaining: 13.6s\n",
      "482:\tlearn: 0.5834648\ttotal: 12.7s\tremaining: 13.6s\n",
      "483:\tlearn: 0.5832006\ttotal: 12.7s\tremaining: 13.6s\n",
      "484:\tlearn: 0.5831638\ttotal: 12.8s\tremaining: 13.5s\n",
      "485:\tlearn: 0.5829517\ttotal: 12.8s\tremaining: 13.5s\n",
      "486:\tlearn: 0.5828459\ttotal: 12.8s\tremaining: 13.5s\n",
      "487:\tlearn: 0.5826970\ttotal: 12.8s\tremaining: 13.5s\n",
      "488:\tlearn: 0.5825875\ttotal: 12.9s\tremaining: 13.4s\n",
      "489:\tlearn: 0.5823081\ttotal: 12.9s\tremaining: 13.4s\n",
      "490:\tlearn: 0.5822492\ttotal: 12.9s\tremaining: 13.4s\n",
      "491:\tlearn: 0.5821023\ttotal: 12.9s\tremaining: 13.4s\n",
      "492:\tlearn: 0.5817969\ttotal: 13s\tremaining: 13.3s\n",
      "493:\tlearn: 0.5816412\ttotal: 13s\tremaining: 13.3s\n",
      "494:\tlearn: 0.5815614\ttotal: 13s\tremaining: 13.3s\n",
      "495:\tlearn: 0.5815056\ttotal: 13s\tremaining: 13.3s\n",
      "496:\tlearn: 0.5814537\ttotal: 13.1s\tremaining: 13.2s\n",
      "497:\tlearn: 0.5812948\ttotal: 13.1s\tremaining: 13.2s\n",
      "498:\tlearn: 0.5811751\ttotal: 13.1s\tremaining: 13.2s\n",
      "499:\tlearn: 0.5810485\ttotal: 13.1s\tremaining: 13.1s\n",
      "500:\tlearn: 0.5809023\ttotal: 13.2s\tremaining: 13.1s\n",
      "501:\tlearn: 0.5807554\ttotal: 13.2s\tremaining: 13.1s\n",
      "502:\tlearn: 0.5805477\ttotal: 13.2s\tremaining: 13.1s\n",
      "503:\tlearn: 0.5804112\ttotal: 13.2s\tremaining: 13s\n",
      "504:\tlearn: 0.5803025\ttotal: 13.3s\tremaining: 13s\n",
      "505:\tlearn: 0.5800296\ttotal: 13.3s\tremaining: 13s\n",
      "506:\tlearn: 0.5798948\ttotal: 13.3s\tremaining: 13s\n",
      "507:\tlearn: 0.5796952\ttotal: 13.3s\tremaining: 12.9s\n",
      "508:\tlearn: 0.5795861\ttotal: 13.4s\tremaining: 12.9s\n",
      "509:\tlearn: 0.5794153\ttotal: 13.4s\tremaining: 12.9s\n",
      "510:\tlearn: 0.5791996\ttotal: 13.4s\tremaining: 12.8s\n",
      "511:\tlearn: 0.5788606\ttotal: 13.4s\tremaining: 12.8s\n",
      "512:\tlearn: 0.5787444\ttotal: 13.5s\tremaining: 12.8s\n",
      "513:\tlearn: 0.5786699\ttotal: 13.5s\tremaining: 12.8s\n",
      "514:\tlearn: 0.5785412\ttotal: 13.5s\tremaining: 12.7s\n",
      "515:\tlearn: 0.5783721\ttotal: 13.5s\tremaining: 12.7s\n",
      "516:\tlearn: 0.5782958\ttotal: 13.6s\tremaining: 12.7s\n",
      "517:\tlearn: 0.5781977\ttotal: 13.6s\tremaining: 12.7s\n",
      "518:\tlearn: 0.5780707\ttotal: 13.6s\tremaining: 12.6s\n",
      "519:\tlearn: 0.5779954\ttotal: 13.6s\tremaining: 12.6s\n",
      "520:\tlearn: 0.5778125\ttotal: 13.7s\tremaining: 12.6s\n",
      "521:\tlearn: 0.5777173\ttotal: 13.7s\tremaining: 12.5s\n",
      "522:\tlearn: 0.5775875\ttotal: 13.7s\tremaining: 12.5s\n",
      "523:\tlearn: 0.5775152\ttotal: 13.7s\tremaining: 12.5s\n",
      "524:\tlearn: 0.5773918\ttotal: 13.8s\tremaining: 12.5s\n",
      "525:\tlearn: 0.5772285\ttotal: 13.8s\tremaining: 12.4s\n",
      "526:\tlearn: 0.5770480\ttotal: 13.8s\tremaining: 12.4s\n",
      "527:\tlearn: 0.5768974\ttotal: 13.8s\tremaining: 12.4s\n",
      "528:\tlearn: 0.5768198\ttotal: 13.9s\tremaining: 12.3s\n",
      "529:\tlearn: 0.5766933\ttotal: 13.9s\tremaining: 12.3s\n",
      "530:\tlearn: 0.5765317\ttotal: 13.9s\tremaining: 12.3s\n",
      "531:\tlearn: 0.5763889\ttotal: 13.9s\tremaining: 12.3s\n",
      "532:\tlearn: 0.5762042\ttotal: 14s\tremaining: 12.2s\n",
      "533:\tlearn: 0.5761072\ttotal: 14s\tremaining: 12.2s\n",
      "534:\tlearn: 0.5759679\ttotal: 14s\tremaining: 12.2s\n",
      "535:\tlearn: 0.5758890\ttotal: 14s\tremaining: 12.2s\n",
      "536:\tlearn: 0.5756519\ttotal: 14.1s\tremaining: 12.1s\n",
      "537:\tlearn: 0.5755482\ttotal: 14.1s\tremaining: 12.1s\n",
      "538:\tlearn: 0.5753647\ttotal: 14.1s\tremaining: 12.1s\n",
      "539:\tlearn: 0.5752804\ttotal: 14.2s\tremaining: 12.1s\n",
      "540:\tlearn: 0.5751831\ttotal: 14.2s\tremaining: 12s\n",
      "541:\tlearn: 0.5749921\ttotal: 14.2s\tremaining: 12s\n",
      "542:\tlearn: 0.5748668\ttotal: 14.2s\tremaining: 12s\n",
      "543:\tlearn: 0.5747518\ttotal: 14.3s\tremaining: 12s\n",
      "544:\tlearn: 0.5745958\ttotal: 14.3s\tremaining: 11.9s\n",
      "545:\tlearn: 0.5744966\ttotal: 14.3s\tremaining: 11.9s\n",
      "546:\tlearn: 0.5743503\ttotal: 14.3s\tremaining: 11.9s\n",
      "547:\tlearn: 0.5742764\ttotal: 14.4s\tremaining: 11.8s\n",
      "548:\tlearn: 0.5741745\ttotal: 14.4s\tremaining: 11.8s\n",
      "549:\tlearn: 0.5740064\ttotal: 14.4s\tremaining: 11.8s\n",
      "550:\tlearn: 0.5737205\ttotal: 14.5s\tremaining: 11.8s\n",
      "551:\tlearn: 0.5735623\ttotal: 14.5s\tremaining: 11.8s\n",
      "552:\tlearn: 0.5734564\ttotal: 14.5s\tremaining: 11.7s\n",
      "553:\tlearn: 0.5732595\ttotal: 14.5s\tremaining: 11.7s\n",
      "554:\tlearn: 0.5730943\ttotal: 14.6s\tremaining: 11.7s\n",
      "555:\tlearn: 0.5729624\ttotal: 14.6s\tremaining: 11.6s\n",
      "556:\tlearn: 0.5728713\ttotal: 14.6s\tremaining: 11.6s\n",
      "557:\tlearn: 0.5727622\ttotal: 14.6s\tremaining: 11.6s\n",
      "558:\tlearn: 0.5725936\ttotal: 14.7s\tremaining: 11.6s\n",
      "559:\tlearn: 0.5725183\ttotal: 14.7s\tremaining: 11.5s\n",
      "560:\tlearn: 0.5722698\ttotal: 14.7s\tremaining: 11.5s\n",
      "561:\tlearn: 0.5721999\ttotal: 14.7s\tremaining: 11.5s\n",
      "562:\tlearn: 0.5719982\ttotal: 14.8s\tremaining: 11.5s\n",
      "563:\tlearn: 0.5718744\ttotal: 14.8s\tremaining: 11.4s\n",
      "564:\tlearn: 0.5716385\ttotal: 14.8s\tremaining: 11.4s\n",
      "565:\tlearn: 0.5715161\ttotal: 14.9s\tremaining: 11.4s\n",
      "566:\tlearn: 0.5714248\ttotal: 14.9s\tremaining: 11.4s\n",
      "567:\tlearn: 0.5713066\ttotal: 14.9s\tremaining: 11.3s\n",
      "568:\tlearn: 0.5711629\ttotal: 14.9s\tremaining: 11.3s\n",
      "569:\tlearn: 0.5711008\ttotal: 15s\tremaining: 11.3s\n",
      "570:\tlearn: 0.5709633\ttotal: 15s\tremaining: 11.3s\n",
      "571:\tlearn: 0.5708200\ttotal: 15s\tremaining: 11.2s\n",
      "572:\tlearn: 0.5706735\ttotal: 15s\tremaining: 11.2s\n",
      "573:\tlearn: 0.5705497\ttotal: 15.1s\tremaining: 11.2s\n",
      "574:\tlearn: 0.5704082\ttotal: 15.1s\tremaining: 11.2s\n",
      "575:\tlearn: 0.5702741\ttotal: 15.1s\tremaining: 11.1s\n",
      "576:\tlearn: 0.5701253\ttotal: 15.2s\tremaining: 11.1s\n",
      "577:\tlearn: 0.5700453\ttotal: 15.2s\tremaining: 11.1s\n",
      "578:\tlearn: 0.5699685\ttotal: 15.2s\tremaining: 11.1s\n",
      "579:\tlearn: 0.5698065\ttotal: 15.2s\tremaining: 11s\n",
      "580:\tlearn: 0.5695645\ttotal: 15.3s\tremaining: 11s\n",
      "581:\tlearn: 0.5694913\ttotal: 15.3s\tremaining: 11s\n",
      "582:\tlearn: 0.5692236\ttotal: 15.3s\tremaining: 11s\n",
      "583:\tlearn: 0.5691010\ttotal: 15.3s\tremaining: 10.9s\n",
      "584:\tlearn: 0.5690366\ttotal: 15.4s\tremaining: 10.9s\n",
      "585:\tlearn: 0.5689691\ttotal: 15.4s\tremaining: 10.9s\n",
      "586:\tlearn: 0.5687728\ttotal: 15.4s\tremaining: 10.8s\n",
      "587:\tlearn: 0.5686740\ttotal: 15.4s\tremaining: 10.8s\n",
      "588:\tlearn: 0.5684925\ttotal: 15.5s\tremaining: 10.8s\n",
      "589:\tlearn: 0.5682545\ttotal: 15.5s\tremaining: 10.8s\n",
      "590:\tlearn: 0.5680570\ttotal: 15.5s\tremaining: 10.7s\n",
      "591:\tlearn: 0.5679225\ttotal: 15.5s\tremaining: 10.7s\n",
      "592:\tlearn: 0.5677964\ttotal: 15.6s\tremaining: 10.7s\n",
      "593:\tlearn: 0.5676414\ttotal: 15.6s\tremaining: 10.7s\n",
      "594:\tlearn: 0.5674503\ttotal: 15.6s\tremaining: 10.6s\n",
      "595:\tlearn: 0.5673428\ttotal: 15.6s\tremaining: 10.6s\n",
      "596:\tlearn: 0.5672327\ttotal: 15.7s\tremaining: 10.6s\n",
      "597:\tlearn: 0.5671856\ttotal: 15.7s\tremaining: 10.5s\n",
      "598:\tlearn: 0.5670521\ttotal: 15.7s\tremaining: 10.5s\n",
      "599:\tlearn: 0.5669551\ttotal: 15.7s\tremaining: 10.5s\n",
      "600:\tlearn: 0.5667981\ttotal: 15.8s\tremaining: 10.5s\n",
      "601:\tlearn: 0.5666304\ttotal: 15.8s\tremaining: 10.4s\n",
      "602:\tlearn: 0.5665290\ttotal: 15.8s\tremaining: 10.4s\n",
      "603:\tlearn: 0.5662866\ttotal: 15.8s\tremaining: 10.4s\n",
      "604:\tlearn: 0.5661356\ttotal: 15.8s\tremaining: 10.3s\n",
      "605:\tlearn: 0.5660342\ttotal: 15.9s\tremaining: 10.3s\n",
      "606:\tlearn: 0.5658547\ttotal: 15.9s\tremaining: 10.3s\n",
      "607:\tlearn: 0.5656309\ttotal: 15.9s\tremaining: 10.3s\n",
      "608:\tlearn: 0.5655154\ttotal: 16s\tremaining: 10.2s\n",
      "609:\tlearn: 0.5653964\ttotal: 16s\tremaining: 10.2s\n",
      "610:\tlearn: 0.5652707\ttotal: 16s\tremaining: 10.2s\n",
      "611:\tlearn: 0.5650684\ttotal: 16s\tremaining: 10.2s\n",
      "612:\tlearn: 0.5649714\ttotal: 16.1s\tremaining: 10.1s\n",
      "613:\tlearn: 0.5648706\ttotal: 16.1s\tremaining: 10.1s\n",
      "614:\tlearn: 0.5646488\ttotal: 16.1s\tremaining: 10.1s\n",
      "615:\tlearn: 0.5645368\ttotal: 16.1s\tremaining: 10.1s\n",
      "616:\tlearn: 0.5644357\ttotal: 16.2s\tremaining: 10s\n",
      "617:\tlearn: 0.5643666\ttotal: 16.2s\tremaining: 10s\n",
      "618:\tlearn: 0.5641794\ttotal: 16.2s\tremaining: 9.98s\n",
      "619:\tlearn: 0.5639849\ttotal: 16.2s\tremaining: 9.95s\n",
      "620:\tlearn: 0.5639138\ttotal: 16.3s\tremaining: 9.92s\n",
      "621:\tlearn: 0.5637066\ttotal: 16.3s\tremaining: 9.9s\n",
      "622:\tlearn: 0.5635518\ttotal: 16.3s\tremaining: 9.87s\n",
      "623:\tlearn: 0.5634006\ttotal: 16.3s\tremaining: 9.84s\n",
      "624:\tlearn: 0.5632522\ttotal: 16.4s\tremaining: 9.82s\n",
      "625:\tlearn: 0.5631562\ttotal: 16.4s\tremaining: 9.79s\n",
      "626:\tlearn: 0.5630258\ttotal: 16.4s\tremaining: 9.77s\n",
      "627:\tlearn: 0.5628771\ttotal: 16.4s\tremaining: 9.74s\n",
      "628:\tlearn: 0.5626944\ttotal: 16.5s\tremaining: 9.71s\n",
      "629:\tlearn: 0.5625747\ttotal: 16.5s\tremaining: 9.69s\n",
      "630:\tlearn: 0.5623547\ttotal: 16.5s\tremaining: 9.66s\n",
      "631:\tlearn: 0.5622088\ttotal: 16.5s\tremaining: 9.63s\n",
      "632:\tlearn: 0.5620194\ttotal: 16.6s\tremaining: 9.61s\n",
      "633:\tlearn: 0.5618531\ttotal: 16.6s\tremaining: 9.58s\n",
      "634:\tlearn: 0.5616865\ttotal: 16.6s\tremaining: 9.56s\n",
      "635:\tlearn: 0.5615904\ttotal: 16.7s\tremaining: 9.53s\n",
      "636:\tlearn: 0.5614901\ttotal: 16.7s\tremaining: 9.5s\n",
      "637:\tlearn: 0.5613448\ttotal: 16.7s\tremaining: 9.48s\n",
      "638:\tlearn: 0.5611947\ttotal: 16.7s\tremaining: 9.45s\n",
      "639:\tlearn: 0.5610700\ttotal: 16.8s\tremaining: 9.43s\n",
      "640:\tlearn: 0.5609269\ttotal: 16.8s\tremaining: 9.4s\n",
      "641:\tlearn: 0.5607938\ttotal: 16.8s\tremaining: 9.37s\n",
      "642:\tlearn: 0.5606113\ttotal: 16.8s\tremaining: 9.35s\n",
      "643:\tlearn: 0.5604158\ttotal: 16.9s\tremaining: 9.32s\n",
      "644:\tlearn: 0.5602848\ttotal: 16.9s\tremaining: 9.29s\n",
      "645:\tlearn: 0.5601412\ttotal: 16.9s\tremaining: 9.27s\n",
      "646:\tlearn: 0.5598256\ttotal: 16.9s\tremaining: 9.24s\n",
      "647:\tlearn: 0.5597268\ttotal: 17s\tremaining: 9.21s\n",
      "648:\tlearn: 0.5595477\ttotal: 17s\tremaining: 9.19s\n",
      "649:\tlearn: 0.5594628\ttotal: 17s\tremaining: 9.16s\n",
      "650:\tlearn: 0.5593596\ttotal: 17s\tremaining: 9.13s\n",
      "651:\tlearn: 0.5592994\ttotal: 17.1s\tremaining: 9.11s\n",
      "652:\tlearn: 0.5591418\ttotal: 17.1s\tremaining: 9.08s\n",
      "653:\tlearn: 0.5589697\ttotal: 17.1s\tremaining: 9.05s\n",
      "654:\tlearn: 0.5587915\ttotal: 17.1s\tremaining: 9.03s\n",
      "655:\tlearn: 0.5587082\ttotal: 17.2s\tremaining: 9s\n",
      "656:\tlearn: 0.5585900\ttotal: 17.2s\tremaining: 8.97s\n",
      "657:\tlearn: 0.5584714\ttotal: 17.2s\tremaining: 8.95s\n",
      "658:\tlearn: 0.5582744\ttotal: 17.3s\tremaining: 8.93s\n",
      "659:\tlearn: 0.5581397\ttotal: 17.3s\tremaining: 8.91s\n",
      "660:\tlearn: 0.5579936\ttotal: 17.3s\tremaining: 8.88s\n",
      "661:\tlearn: 0.5578876\ttotal: 17.4s\tremaining: 8.86s\n",
      "662:\tlearn: 0.5578147\ttotal: 17.4s\tremaining: 8.83s\n",
      "663:\tlearn: 0.5576773\ttotal: 17.4s\tremaining: 8.81s\n",
      "664:\tlearn: 0.5576199\ttotal: 17.4s\tremaining: 8.78s\n",
      "665:\tlearn: 0.5575232\ttotal: 17.5s\tremaining: 8.75s\n",
      "666:\tlearn: 0.5574159\ttotal: 17.5s\tremaining: 8.73s\n",
      "667:\tlearn: 0.5573377\ttotal: 17.5s\tremaining: 8.7s\n",
      "668:\tlearn: 0.5572357\ttotal: 17.5s\tremaining: 8.67s\n",
      "669:\tlearn: 0.5570126\ttotal: 17.6s\tremaining: 8.65s\n",
      "670:\tlearn: 0.5568833\ttotal: 17.6s\tremaining: 8.62s\n",
      "671:\tlearn: 0.5567527\ttotal: 17.6s\tremaining: 8.6s\n",
      "672:\tlearn: 0.5566497\ttotal: 17.6s\tremaining: 8.57s\n",
      "673:\tlearn: 0.5564789\ttotal: 17.7s\tremaining: 8.54s\n",
      "674:\tlearn: 0.5564014\ttotal: 17.7s\tremaining: 8.52s\n",
      "675:\tlearn: 0.5562903\ttotal: 17.7s\tremaining: 8.49s\n",
      "676:\tlearn: 0.5561637\ttotal: 17.7s\tremaining: 8.46s\n",
      "677:\tlearn: 0.5560094\ttotal: 17.8s\tremaining: 8.44s\n",
      "678:\tlearn: 0.5558829\ttotal: 17.8s\tremaining: 8.41s\n",
      "679:\tlearn: 0.5557189\ttotal: 17.8s\tremaining: 8.39s\n",
      "680:\tlearn: 0.5555989\ttotal: 17.9s\tremaining: 8.36s\n",
      "681:\tlearn: 0.5555225\ttotal: 17.9s\tremaining: 8.34s\n",
      "682:\tlearn: 0.5554319\ttotal: 17.9s\tremaining: 8.31s\n",
      "683:\tlearn: 0.5553324\ttotal: 17.9s\tremaining: 8.28s\n",
      "684:\tlearn: 0.5552138\ttotal: 18s\tremaining: 8.26s\n",
      "685:\tlearn: 0.5551116\ttotal: 18s\tremaining: 8.23s\n",
      "686:\tlearn: 0.5548853\ttotal: 18s\tremaining: 8.2s\n",
      "687:\tlearn: 0.5547374\ttotal: 18s\tremaining: 8.18s\n",
      "688:\tlearn: 0.5546596\ttotal: 18.1s\tremaining: 8.15s\n",
      "689:\tlearn: 0.5545655\ttotal: 18.1s\tremaining: 8.13s\n",
      "690:\tlearn: 0.5543196\ttotal: 18.1s\tremaining: 8.1s\n",
      "691:\tlearn: 0.5541264\ttotal: 18.1s\tremaining: 8.07s\n",
      "692:\tlearn: 0.5540304\ttotal: 18.2s\tremaining: 8.05s\n",
      "693:\tlearn: 0.5539180\ttotal: 18.2s\tremaining: 8.03s\n",
      "694:\tlearn: 0.5538507\ttotal: 18.2s\tremaining: 8s\n",
      "695:\tlearn: 0.5537694\ttotal: 18.3s\tremaining: 7.98s\n",
      "696:\tlearn: 0.5536367\ttotal: 18.3s\tremaining: 7.95s\n",
      "697:\tlearn: 0.5533675\ttotal: 18.3s\tremaining: 7.93s\n",
      "698:\tlearn: 0.5532573\ttotal: 18.3s\tremaining: 7.9s\n",
      "699:\tlearn: 0.5530602\ttotal: 18.4s\tremaining: 7.88s\n",
      "700:\tlearn: 0.5529169\ttotal: 18.4s\tremaining: 7.85s\n",
      "701:\tlearn: 0.5527881\ttotal: 18.4s\tremaining: 7.82s\n",
      "702:\tlearn: 0.5525874\ttotal: 18.5s\tremaining: 7.8s\n",
      "703:\tlearn: 0.5524772\ttotal: 18.5s\tremaining: 7.77s\n",
      "704:\tlearn: 0.5523812\ttotal: 18.5s\tremaining: 7.74s\n",
      "705:\tlearn: 0.5522263\ttotal: 18.5s\tremaining: 7.72s\n",
      "706:\tlearn: 0.5521938\ttotal: 18.6s\tremaining: 7.69s\n",
      "707:\tlearn: 0.5519321\ttotal: 18.6s\tremaining: 7.67s\n",
      "708:\tlearn: 0.5518620\ttotal: 18.6s\tremaining: 7.64s\n",
      "709:\tlearn: 0.5517446\ttotal: 18.6s\tremaining: 7.61s\n",
      "710:\tlearn: 0.5515882\ttotal: 18.7s\tremaining: 7.58s\n",
      "711:\tlearn: 0.5513630\ttotal: 18.7s\tremaining: 7.56s\n",
      "712:\tlearn: 0.5512471\ttotal: 18.7s\tremaining: 7.54s\n",
      "713:\tlearn: 0.5510305\ttotal: 18.8s\tremaining: 7.51s\n",
      "714:\tlearn: 0.5509292\ttotal: 18.8s\tremaining: 7.48s\n",
      "715:\tlearn: 0.5508133\ttotal: 18.8s\tremaining: 7.46s\n",
      "716:\tlearn: 0.5506812\ttotal: 18.8s\tremaining: 7.43s\n",
      "717:\tlearn: 0.5505731\ttotal: 18.9s\tremaining: 7.41s\n",
      "718:\tlearn: 0.5504524\ttotal: 18.9s\tremaining: 7.38s\n",
      "719:\tlearn: 0.5503745\ttotal: 18.9s\tremaining: 7.35s\n",
      "720:\tlearn: 0.5502561\ttotal: 18.9s\tremaining: 7.33s\n",
      "721:\tlearn: 0.5501110\ttotal: 19s\tremaining: 7.3s\n",
      "722:\tlearn: 0.5498578\ttotal: 19s\tremaining: 7.28s\n",
      "723:\tlearn: 0.5497370\ttotal: 19s\tremaining: 7.25s\n",
      "724:\tlearn: 0.5496072\ttotal: 19s\tremaining: 7.22s\n",
      "725:\tlearn: 0.5494739\ttotal: 19.1s\tremaining: 7.2s\n",
      "726:\tlearn: 0.5493100\ttotal: 19.1s\tremaining: 7.17s\n",
      "727:\tlearn: 0.5491770\ttotal: 19.1s\tremaining: 7.15s\n",
      "728:\tlearn: 0.5489858\ttotal: 19.2s\tremaining: 7.12s\n",
      "729:\tlearn: 0.5488129\ttotal: 19.2s\tremaining: 7.1s\n",
      "730:\tlearn: 0.5486734\ttotal: 19.2s\tremaining: 7.07s\n",
      "731:\tlearn: 0.5485591\ttotal: 19.2s\tremaining: 7.04s\n",
      "732:\tlearn: 0.5485092\ttotal: 19.3s\tremaining: 7.02s\n",
      "733:\tlearn: 0.5484505\ttotal: 19.3s\tremaining: 6.99s\n",
      "734:\tlearn: 0.5482371\ttotal: 19.3s\tremaining: 6.96s\n",
      "735:\tlearn: 0.5479358\ttotal: 19.3s\tremaining: 6.94s\n",
      "736:\tlearn: 0.5478367\ttotal: 19.4s\tremaining: 6.91s\n",
      "737:\tlearn: 0.5477584\ttotal: 19.4s\tremaining: 6.89s\n",
      "738:\tlearn: 0.5476351\ttotal: 19.4s\tremaining: 6.86s\n",
      "739:\tlearn: 0.5474794\ttotal: 19.5s\tremaining: 6.83s\n",
      "740:\tlearn: 0.5472823\ttotal: 19.5s\tremaining: 6.81s\n",
      "741:\tlearn: 0.5471496\ttotal: 19.5s\tremaining: 6.78s\n",
      "742:\tlearn: 0.5470142\ttotal: 19.5s\tremaining: 6.75s\n",
      "743:\tlearn: 0.5468766\ttotal: 19.6s\tremaining: 6.73s\n",
      "744:\tlearn: 0.5467606\ttotal: 19.6s\tremaining: 6.7s\n",
      "745:\tlearn: 0.5466793\ttotal: 19.6s\tremaining: 6.68s\n",
      "746:\tlearn: 0.5465572\ttotal: 19.6s\tremaining: 6.65s\n",
      "747:\tlearn: 0.5464698\ttotal: 19.7s\tremaining: 6.62s\n",
      "748:\tlearn: 0.5463564\ttotal: 19.7s\tremaining: 6.6s\n",
      "749:\tlearn: 0.5461775\ttotal: 19.7s\tremaining: 6.57s\n",
      "750:\tlearn: 0.5460491\ttotal: 19.7s\tremaining: 6.54s\n",
      "751:\tlearn: 0.5459655\ttotal: 19.8s\tremaining: 6.52s\n",
      "752:\tlearn: 0.5458726\ttotal: 19.8s\tremaining: 6.49s\n",
      "753:\tlearn: 0.5458051\ttotal: 19.8s\tremaining: 6.46s\n",
      "754:\tlearn: 0.5456910\ttotal: 19.8s\tremaining: 6.44s\n",
      "755:\tlearn: 0.5455045\ttotal: 19.9s\tremaining: 6.41s\n",
      "756:\tlearn: 0.5453770\ttotal: 19.9s\tremaining: 6.39s\n",
      "757:\tlearn: 0.5451996\ttotal: 19.9s\tremaining: 6.36s\n",
      "758:\tlearn: 0.5451188\ttotal: 20s\tremaining: 6.34s\n",
      "759:\tlearn: 0.5450050\ttotal: 20s\tremaining: 6.31s\n",
      "760:\tlearn: 0.5448735\ttotal: 20s\tremaining: 6.29s\n",
      "761:\tlearn: 0.5446776\ttotal: 20s\tremaining: 6.26s\n",
      "762:\tlearn: 0.5445907\ttotal: 20.1s\tremaining: 6.24s\n",
      "763:\tlearn: 0.5444873\ttotal: 20.1s\tremaining: 6.21s\n",
      "764:\tlearn: 0.5443530\ttotal: 20.1s\tremaining: 6.18s\n",
      "765:\tlearn: 0.5442545\ttotal: 20.2s\tremaining: 6.16s\n",
      "766:\tlearn: 0.5440965\ttotal: 20.2s\tremaining: 6.13s\n",
      "767:\tlearn: 0.5440261\ttotal: 20.2s\tremaining: 6.11s\n",
      "768:\tlearn: 0.5439566\ttotal: 20.3s\tremaining: 6.09s\n",
      "769:\tlearn: 0.5438383\ttotal: 20.3s\tremaining: 6.07s\n",
      "770:\tlearn: 0.5436318\ttotal: 20.3s\tremaining: 6.04s\n",
      "771:\tlearn: 0.5435432\ttotal: 20.4s\tremaining: 6.01s\n",
      "772:\tlearn: 0.5434644\ttotal: 20.4s\tremaining: 5.99s\n",
      "773:\tlearn: 0.5432551\ttotal: 20.4s\tremaining: 5.96s\n",
      "774:\tlearn: 0.5430454\ttotal: 20.4s\tremaining: 5.94s\n",
      "775:\tlearn: 0.5429027\ttotal: 20.5s\tremaining: 5.91s\n",
      "776:\tlearn: 0.5427439\ttotal: 20.5s\tremaining: 5.88s\n",
      "777:\tlearn: 0.5426476\ttotal: 20.5s\tremaining: 5.86s\n",
      "778:\tlearn: 0.5425254\ttotal: 20.6s\tremaining: 5.83s\n",
      "779:\tlearn: 0.5424341\ttotal: 20.6s\tremaining: 5.8s\n",
      "780:\tlearn: 0.5423356\ttotal: 20.6s\tremaining: 5.78s\n",
      "781:\tlearn: 0.5422004\ttotal: 20.6s\tremaining: 5.75s\n",
      "782:\tlearn: 0.5420805\ttotal: 20.7s\tremaining: 5.72s\n",
      "783:\tlearn: 0.5419709\ttotal: 20.7s\tremaining: 5.7s\n",
      "784:\tlearn: 0.5418699\ttotal: 20.7s\tremaining: 5.67s\n",
      "785:\tlearn: 0.5417210\ttotal: 20.7s\tremaining: 5.65s\n",
      "786:\tlearn: 0.5416546\ttotal: 20.8s\tremaining: 5.62s\n",
      "787:\tlearn: 0.5415743\ttotal: 20.8s\tremaining: 5.59s\n",
      "788:\tlearn: 0.5414794\ttotal: 20.8s\tremaining: 5.57s\n",
      "789:\tlearn: 0.5413229\ttotal: 20.8s\tremaining: 5.54s\n",
      "790:\tlearn: 0.5412174\ttotal: 20.9s\tremaining: 5.51s\n",
      "791:\tlearn: 0.5410980\ttotal: 20.9s\tremaining: 5.49s\n",
      "792:\tlearn: 0.5409827\ttotal: 20.9s\tremaining: 5.47s\n",
      "793:\tlearn: 0.5409424\ttotal: 21s\tremaining: 5.44s\n",
      "794:\tlearn: 0.5407952\ttotal: 21s\tremaining: 5.42s\n",
      "795:\tlearn: 0.5407238\ttotal: 21s\tremaining: 5.39s\n",
      "796:\tlearn: 0.5405831\ttotal: 21.1s\tremaining: 5.37s\n",
      "797:\tlearn: 0.5404634\ttotal: 21.1s\tremaining: 5.34s\n",
      "798:\tlearn: 0.5402113\ttotal: 21.1s\tremaining: 5.31s\n",
      "799:\tlearn: 0.5400353\ttotal: 21.1s\tremaining: 5.29s\n",
      "800:\tlearn: 0.5399203\ttotal: 21.2s\tremaining: 5.26s\n",
      "801:\tlearn: 0.5397717\ttotal: 21.2s\tremaining: 5.23s\n",
      "802:\tlearn: 0.5396941\ttotal: 21.2s\tremaining: 5.21s\n",
      "803:\tlearn: 0.5395713\ttotal: 21.3s\tremaining: 5.18s\n",
      "804:\tlearn: 0.5394909\ttotal: 21.3s\tremaining: 5.15s\n",
      "805:\tlearn: 0.5394120\ttotal: 21.3s\tremaining: 5.13s\n",
      "806:\tlearn: 0.5393289\ttotal: 21.3s\tremaining: 5.1s\n",
      "807:\tlearn: 0.5392295\ttotal: 21.4s\tremaining: 5.08s\n",
      "808:\tlearn: 0.5391029\ttotal: 21.4s\tremaining: 5.05s\n",
      "809:\tlearn: 0.5390016\ttotal: 21.4s\tremaining: 5.02s\n",
      "810:\tlearn: 0.5388768\ttotal: 21.4s\tremaining: 5s\n",
      "811:\tlearn: 0.5387944\ttotal: 21.5s\tremaining: 4.97s\n",
      "812:\tlearn: 0.5386985\ttotal: 21.5s\tremaining: 4.94s\n",
      "813:\tlearn: 0.5386051\ttotal: 21.5s\tremaining: 4.92s\n",
      "814:\tlearn: 0.5384616\ttotal: 21.6s\tremaining: 4.89s\n",
      "815:\tlearn: 0.5383800\ttotal: 21.6s\tremaining: 4.87s\n",
      "816:\tlearn: 0.5382519\ttotal: 21.6s\tremaining: 4.84s\n",
      "817:\tlearn: 0.5381709\ttotal: 21.6s\tremaining: 4.82s\n",
      "818:\tlearn: 0.5380645\ttotal: 21.7s\tremaining: 4.79s\n",
      "819:\tlearn: 0.5380220\ttotal: 21.7s\tremaining: 4.76s\n",
      "820:\tlearn: 0.5379334\ttotal: 21.7s\tremaining: 4.74s\n",
      "821:\tlearn: 0.5377832\ttotal: 21.8s\tremaining: 4.71s\n",
      "822:\tlearn: 0.5377043\ttotal: 21.8s\tremaining: 4.68s\n",
      "823:\tlearn: 0.5376120\ttotal: 21.8s\tremaining: 4.66s\n",
      "824:\tlearn: 0.5375039\ttotal: 21.8s\tremaining: 4.63s\n",
      "825:\tlearn: 0.5374284\ttotal: 21.9s\tremaining: 4.6s\n",
      "826:\tlearn: 0.5373778\ttotal: 21.9s\tremaining: 4.58s\n",
      "827:\tlearn: 0.5373078\ttotal: 21.9s\tremaining: 4.55s\n",
      "828:\tlearn: 0.5372315\ttotal: 21.9s\tremaining: 4.52s\n",
      "829:\tlearn: 0.5371249\ttotal: 22s\tremaining: 4.5s\n",
      "830:\tlearn: 0.5370577\ttotal: 22s\tremaining: 4.47s\n",
      "831:\tlearn: 0.5369001\ttotal: 22s\tremaining: 4.45s\n",
      "832:\tlearn: 0.5366801\ttotal: 22s\tremaining: 4.42s\n",
      "833:\tlearn: 0.5365709\ttotal: 22.1s\tremaining: 4.39s\n",
      "834:\tlearn: 0.5364165\ttotal: 22.1s\tremaining: 4.37s\n",
      "835:\tlearn: 0.5363497\ttotal: 22.1s\tremaining: 4.34s\n",
      "836:\tlearn: 0.5363078\ttotal: 22.2s\tremaining: 4.31s\n",
      "837:\tlearn: 0.5361950\ttotal: 22.2s\tremaining: 4.29s\n",
      "838:\tlearn: 0.5361033\ttotal: 22.2s\tremaining: 4.26s\n",
      "839:\tlearn: 0.5359365\ttotal: 22.2s\tremaining: 4.23s\n",
      "840:\tlearn: 0.5358824\ttotal: 22.3s\tremaining: 4.21s\n",
      "841:\tlearn: 0.5357617\ttotal: 22.3s\tremaining: 4.18s\n",
      "842:\tlearn: 0.5357047\ttotal: 22.3s\tremaining: 4.15s\n",
      "843:\tlearn: 0.5355948\ttotal: 22.3s\tremaining: 4.13s\n",
      "844:\tlearn: 0.5354389\ttotal: 22.4s\tremaining: 4.1s\n",
      "845:\tlearn: 0.5352919\ttotal: 22.4s\tremaining: 4.08s\n",
      "846:\tlearn: 0.5351772\ttotal: 22.4s\tremaining: 4.05s\n",
      "847:\tlearn: 0.5350002\ttotal: 22.4s\tremaining: 4.02s\n",
      "848:\tlearn: 0.5349321\ttotal: 22.5s\tremaining: 4s\n",
      "849:\tlearn: 0.5347966\ttotal: 22.5s\tremaining: 3.97s\n",
      "850:\tlearn: 0.5346499\ttotal: 22.5s\tremaining: 3.94s\n",
      "851:\tlearn: 0.5345455\ttotal: 22.5s\tremaining: 3.92s\n",
      "852:\tlearn: 0.5343785\ttotal: 22.6s\tremaining: 3.89s\n",
      "853:\tlearn: 0.5343196\ttotal: 22.6s\tremaining: 3.86s\n",
      "854:\tlearn: 0.5342200\ttotal: 22.6s\tremaining: 3.84s\n",
      "855:\tlearn: 0.5341732\ttotal: 22.7s\tremaining: 3.81s\n",
      "856:\tlearn: 0.5340072\ttotal: 22.7s\tremaining: 3.78s\n",
      "857:\tlearn: 0.5339293\ttotal: 22.7s\tremaining: 3.76s\n",
      "858:\tlearn: 0.5338385\ttotal: 22.7s\tremaining: 3.73s\n",
      "859:\tlearn: 0.5336582\ttotal: 22.8s\tremaining: 3.7s\n",
      "860:\tlearn: 0.5335239\ttotal: 22.8s\tremaining: 3.68s\n",
      "861:\tlearn: 0.5334003\ttotal: 22.8s\tremaining: 3.65s\n",
      "862:\tlearn: 0.5333011\ttotal: 22.8s\tremaining: 3.62s\n",
      "863:\tlearn: 0.5332558\ttotal: 22.9s\tremaining: 3.6s\n",
      "864:\tlearn: 0.5331119\ttotal: 22.9s\tremaining: 3.57s\n",
      "865:\tlearn: 0.5330153\ttotal: 22.9s\tremaining: 3.54s\n",
      "866:\tlearn: 0.5329491\ttotal: 22.9s\tremaining: 3.52s\n",
      "867:\tlearn: 0.5328934\ttotal: 23s\tremaining: 3.49s\n",
      "868:\tlearn: 0.5328184\ttotal: 23s\tremaining: 3.46s\n",
      "869:\tlearn: 0.5326642\ttotal: 23s\tremaining: 3.44s\n",
      "870:\tlearn: 0.5325891\ttotal: 23s\tremaining: 3.41s\n",
      "871:\tlearn: 0.5324610\ttotal: 23s\tremaining: 3.38s\n",
      "872:\tlearn: 0.5323717\ttotal: 23.1s\tremaining: 3.36s\n",
      "873:\tlearn: 0.5322873\ttotal: 23.1s\tremaining: 3.33s\n",
      "874:\tlearn: 0.5321746\ttotal: 23.1s\tremaining: 3.3s\n",
      "875:\tlearn: 0.5321324\ttotal: 23.1s\tremaining: 3.28s\n",
      "876:\tlearn: 0.5319226\ttotal: 23.2s\tremaining: 3.25s\n",
      "877:\tlearn: 0.5316244\ttotal: 23.2s\tremaining: 3.22s\n",
      "878:\tlearn: 0.5315238\ttotal: 23.2s\tremaining: 3.2s\n",
      "879:\tlearn: 0.5313961\ttotal: 23.2s\tremaining: 3.17s\n",
      "880:\tlearn: 0.5313413\ttotal: 23.3s\tremaining: 3.14s\n",
      "881:\tlearn: 0.5312121\ttotal: 23.3s\tremaining: 3.12s\n",
      "882:\tlearn: 0.5311068\ttotal: 23.3s\tremaining: 3.09s\n",
      "883:\tlearn: 0.5310046\ttotal: 23.3s\tremaining: 3.06s\n",
      "884:\tlearn: 0.5309326\ttotal: 23.4s\tremaining: 3.04s\n",
      "885:\tlearn: 0.5309078\ttotal: 23.4s\tremaining: 3.01s\n",
      "886:\tlearn: 0.5307779\ttotal: 23.4s\tremaining: 2.98s\n",
      "887:\tlearn: 0.5306206\ttotal: 23.4s\tremaining: 2.96s\n",
      "888:\tlearn: 0.5305551\ttotal: 23.5s\tremaining: 2.93s\n",
      "889:\tlearn: 0.5305011\ttotal: 23.5s\tremaining: 2.9s\n",
      "890:\tlearn: 0.5304001\ttotal: 23.5s\tremaining: 2.88s\n",
      "891:\tlearn: 0.5303265\ttotal: 23.5s\tremaining: 2.85s\n",
      "892:\tlearn: 0.5302214\ttotal: 23.6s\tremaining: 2.82s\n",
      "893:\tlearn: 0.5301145\ttotal: 23.6s\tremaining: 2.79s\n",
      "894:\tlearn: 0.5300004\ttotal: 23.6s\tremaining: 2.77s\n",
      "895:\tlearn: 0.5299081\ttotal: 23.6s\tremaining: 2.74s\n",
      "896:\tlearn: 0.5298186\ttotal: 23.6s\tremaining: 2.71s\n",
      "897:\tlearn: 0.5296207\ttotal: 23.7s\tremaining: 2.69s\n",
      "898:\tlearn: 0.5295570\ttotal: 23.7s\tremaining: 2.66s\n",
      "899:\tlearn: 0.5293858\ttotal: 23.7s\tremaining: 2.63s\n",
      "900:\tlearn: 0.5292788\ttotal: 23.7s\tremaining: 2.61s\n",
      "901:\tlearn: 0.5292056\ttotal: 23.8s\tremaining: 2.58s\n",
      "902:\tlearn: 0.5291118\ttotal: 23.8s\tremaining: 2.56s\n",
      "903:\tlearn: 0.5290382\ttotal: 23.8s\tremaining: 2.53s\n",
      "904:\tlearn: 0.5289012\ttotal: 23.8s\tremaining: 2.5s\n",
      "905:\tlearn: 0.5287423\ttotal: 23.9s\tremaining: 2.48s\n",
      "906:\tlearn: 0.5285761\ttotal: 23.9s\tremaining: 2.45s\n",
      "907:\tlearn: 0.5283859\ttotal: 23.9s\tremaining: 2.42s\n",
      "908:\tlearn: 0.5282832\ttotal: 23.9s\tremaining: 2.4s\n",
      "909:\tlearn: 0.5282096\ttotal: 24s\tremaining: 2.37s\n",
      "910:\tlearn: 0.5280955\ttotal: 24s\tremaining: 2.34s\n",
      "911:\tlearn: 0.5280765\ttotal: 24s\tremaining: 2.32s\n",
      "912:\tlearn: 0.5280106\ttotal: 24s\tremaining: 2.29s\n",
      "913:\tlearn: 0.5278192\ttotal: 24.1s\tremaining: 2.26s\n",
      "914:\tlearn: 0.5275881\ttotal: 24.1s\tremaining: 2.24s\n",
      "915:\tlearn: 0.5274742\ttotal: 24.1s\tremaining: 2.21s\n",
      "916:\tlearn: 0.5274269\ttotal: 24.1s\tremaining: 2.18s\n",
      "917:\tlearn: 0.5273210\ttotal: 24.2s\tremaining: 2.16s\n",
      "918:\tlearn: 0.5272041\ttotal: 24.2s\tremaining: 2.13s\n",
      "919:\tlearn: 0.5270808\ttotal: 24.2s\tremaining: 2.1s\n",
      "920:\tlearn: 0.5269281\ttotal: 24.2s\tremaining: 2.08s\n",
      "921:\tlearn: 0.5268011\ttotal: 24.3s\tremaining: 2.05s\n",
      "922:\tlearn: 0.5266768\ttotal: 24.3s\tremaining: 2.02s\n",
      "923:\tlearn: 0.5266234\ttotal: 24.3s\tremaining: 2s\n",
      "924:\tlearn: 0.5264617\ttotal: 24.3s\tremaining: 1.97s\n",
      "925:\tlearn: 0.5261796\ttotal: 24.4s\tremaining: 1.95s\n",
      "926:\tlearn: 0.5260517\ttotal: 24.4s\tremaining: 1.92s\n",
      "927:\tlearn: 0.5259496\ttotal: 24.4s\tremaining: 1.89s\n",
      "928:\tlearn: 0.5259058\ttotal: 24.4s\tremaining: 1.87s\n",
      "929:\tlearn: 0.5258513\ttotal: 24.4s\tremaining: 1.84s\n",
      "930:\tlearn: 0.5257010\ttotal: 24.5s\tremaining: 1.81s\n",
      "931:\tlearn: 0.5255974\ttotal: 24.5s\tremaining: 1.79s\n",
      "932:\tlearn: 0.5255418\ttotal: 24.5s\tremaining: 1.76s\n",
      "933:\tlearn: 0.5254491\ttotal: 24.5s\tremaining: 1.73s\n",
      "934:\tlearn: 0.5253730\ttotal: 24.6s\tremaining: 1.71s\n",
      "935:\tlearn: 0.5251403\ttotal: 24.6s\tremaining: 1.68s\n",
      "936:\tlearn: 0.5250501\ttotal: 24.6s\tremaining: 1.66s\n",
      "937:\tlearn: 0.5249889\ttotal: 24.6s\tremaining: 1.63s\n",
      "938:\tlearn: 0.5248427\ttotal: 24.7s\tremaining: 1.6s\n",
      "939:\tlearn: 0.5247637\ttotal: 24.7s\tremaining: 1.58s\n",
      "940:\tlearn: 0.5246014\ttotal: 24.7s\tremaining: 1.55s\n",
      "941:\tlearn: 0.5244760\ttotal: 24.7s\tremaining: 1.52s\n",
      "942:\tlearn: 0.5243732\ttotal: 24.8s\tremaining: 1.5s\n",
      "943:\tlearn: 0.5242396\ttotal: 24.8s\tremaining: 1.47s\n",
      "944:\tlearn: 0.5241587\ttotal: 24.8s\tremaining: 1.44s\n",
      "945:\tlearn: 0.5240561\ttotal: 24.8s\tremaining: 1.42s\n",
      "946:\tlearn: 0.5239018\ttotal: 24.9s\tremaining: 1.39s\n",
      "947:\tlearn: 0.5237899\ttotal: 24.9s\tremaining: 1.36s\n",
      "948:\tlearn: 0.5237375\ttotal: 24.9s\tremaining: 1.34s\n",
      "949:\tlearn: 0.5236060\ttotal: 24.9s\tremaining: 1.31s\n",
      "950:\tlearn: 0.5234589\ttotal: 25s\tremaining: 1.29s\n",
      "951:\tlearn: 0.5233273\ttotal: 25s\tremaining: 1.26s\n",
      "952:\tlearn: 0.5232566\ttotal: 25s\tremaining: 1.23s\n",
      "953:\tlearn: 0.5231778\ttotal: 25s\tremaining: 1.21s\n",
      "954:\tlearn: 0.5230341\ttotal: 25.1s\tremaining: 1.18s\n",
      "955:\tlearn: 0.5227839\ttotal: 25.1s\tremaining: 1.15s\n",
      "956:\tlearn: 0.5227198\ttotal: 25.1s\tremaining: 1.13s\n",
      "957:\tlearn: 0.5225562\ttotal: 25.1s\tremaining: 1.1s\n",
      "958:\tlearn: 0.5224213\ttotal: 25.2s\tremaining: 1.08s\n",
      "959:\tlearn: 0.5222616\ttotal: 25.2s\tremaining: 1.05s\n",
      "960:\tlearn: 0.5221496\ttotal: 25.2s\tremaining: 1.02s\n",
      "961:\tlearn: 0.5220618\ttotal: 25.2s\tremaining: 997ms\n",
      "962:\tlearn: 0.5219580\ttotal: 25.3s\tremaining: 971ms\n",
      "963:\tlearn: 0.5218198\ttotal: 25.3s\tremaining: 945ms\n",
      "964:\tlearn: 0.5217219\ttotal: 25.3s\tremaining: 918ms\n",
      "965:\tlearn: 0.5216462\ttotal: 25.3s\tremaining: 892ms\n",
      "966:\tlearn: 0.5215891\ttotal: 25.4s\tremaining: 866ms\n",
      "967:\tlearn: 0.5215289\ttotal: 25.4s\tremaining: 839ms\n",
      "968:\tlearn: 0.5213730\ttotal: 25.4s\tremaining: 813ms\n",
      "969:\tlearn: 0.5212779\ttotal: 25.4s\tremaining: 787ms\n",
      "970:\tlearn: 0.5211833\ttotal: 25.5s\tremaining: 760ms\n",
      "971:\tlearn: 0.5210591\ttotal: 25.5s\tremaining: 734ms\n",
      "972:\tlearn: 0.5209832\ttotal: 25.5s\tremaining: 708ms\n",
      "973:\tlearn: 0.5209027\ttotal: 25.5s\tremaining: 682ms\n",
      "974:\tlearn: 0.5207989\ttotal: 25.6s\tremaining: 655ms\n",
      "975:\tlearn: 0.5207086\ttotal: 25.6s\tremaining: 629ms\n",
      "976:\tlearn: 0.5206111\ttotal: 25.6s\tremaining: 603ms\n",
      "977:\tlearn: 0.5205377\ttotal: 25.6s\tremaining: 577ms\n",
      "978:\tlearn: 0.5203954\ttotal: 25.7s\tremaining: 550ms\n",
      "979:\tlearn: 0.5203074\ttotal: 25.7s\tremaining: 524ms\n",
      "980:\tlearn: 0.5201003\ttotal: 25.7s\tremaining: 498ms\n",
      "981:\tlearn: 0.5198941\ttotal: 25.7s\tremaining: 472ms\n",
      "982:\tlearn: 0.5197419\ttotal: 25.8s\tremaining: 445ms\n",
      "983:\tlearn: 0.5196562\ttotal: 25.8s\tremaining: 419ms\n",
      "984:\tlearn: 0.5194708\ttotal: 25.8s\tremaining: 393ms\n",
      "985:\tlearn: 0.5193675\ttotal: 25.8s\tremaining: 367ms\n",
      "986:\tlearn: 0.5193210\ttotal: 25.8s\tremaining: 340ms\n",
      "987:\tlearn: 0.5192491\ttotal: 25.9s\tremaining: 314ms\n",
      "988:\tlearn: 0.5190272\ttotal: 25.9s\tremaining: 288ms\n",
      "989:\tlearn: 0.5189184\ttotal: 25.9s\tremaining: 262ms\n",
      "990:\tlearn: 0.5187557\ttotal: 25.9s\tremaining: 236ms\n",
      "991:\tlearn: 0.5186836\ttotal: 26s\tremaining: 209ms\n",
      "992:\tlearn: 0.5185615\ttotal: 26s\tremaining: 183ms\n",
      "993:\tlearn: 0.5184687\ttotal: 26s\tremaining: 157ms\n",
      "994:\tlearn: 0.5183782\ttotal: 26s\tremaining: 131ms\n",
      "995:\tlearn: 0.5182982\ttotal: 26.1s\tremaining: 105ms\n",
      "996:\tlearn: 0.5181562\ttotal: 26.1s\tremaining: 78.5ms\n",
      "997:\tlearn: 0.5180613\ttotal: 26.1s\tremaining: 52.3ms\n",
      "998:\tlearn: 0.5179994\ttotal: 26.1s\tremaining: 26.2ms\n",
      "999:\tlearn: 0.5179348\ttotal: 26.2s\tremaining: 0us\n",
      "              precision    recall  f1-score   support\n",
      "\n",
      "           0       0.76      0.73      0.75      5293\n",
      "           1       0.68      0.68      0.68      3251\n",
      "           2       0.78      0.79      0.79     10009\n",
      "\n",
      "    accuracy                           0.76     18553\n",
      "   macro avg       0.74      0.74      0.74     18553\n",
      "weighted avg       0.76      0.76      0.76     18553\n",
      "\n"
     ]
    }
   ],
   "source": [
    "model = CatBoostClassifier(random_state=42)\n",
    "model.fit(x_train,y_train)\n",
    "y_pred = model.predict(x_test)\n",
    "print(classification_report(y_test,y_pred))\n",
    "# confusion_matrixDisply = ConfusionMatrixDisplay(confusion_matrix(y_test,y_pred),display_labels=['Poor','Good','Standard'])\n",
    "# confusion_matrixDisply.plot()"
   ]
  },
  {
   "cell_type": "code",
   "execution_count": 75,
   "metadata": {},
   "outputs": [],
   "source": [
    "from sklearn.svm import SVC"
   ]
  },
  {
   "cell_type": "code",
   "execution_count": 76,
   "metadata": {},
   "outputs": [],
   "source": [
    "# model_svc = SVC(kernel='rbf', C=1.0, gamma='scale', random_state=42)\n",
    "# model_svc"
   ]
  },
  {
   "cell_type": "code",
   "execution_count": 77,
   "metadata": {},
   "outputs": [],
   "source": [
    "# model_svc.fit(x_train, y_train)"
   ]
  },
  {
   "cell_type": "code",
   "execution_count": 78,
   "metadata": {},
   "outputs": [],
   "source": [
    "# y_pred = model_svc.predict(x_test)\n",
    "# print(classification_report(y_test,y_pred))\n",
    "# print(\"accuracy_score\", accuracy_score(y_test,y_pred))"
   ]
  },
  {
   "cell_type": "code",
   "execution_count": 80,
   "metadata": {},
   "outputs": [],
   "source": [
    "from sklearn.linear_model import LogisticRegression"
   ]
  },
  {
   "cell_type": "code",
   "execution_count": 87,
   "metadata": {},
   "outputs": [],
   "source": [
    "logistic_regression = LogisticRegression(max_iter=10000, random_state=42)"
   ]
  },
  {
   "cell_type": "code",
   "execution_count": 88,
   "metadata": {},
   "outputs": [
    {
     "name": "stdout",
     "output_type": "stream",
     "text": [
      "Accuracy: 0.62485851344796\n",
      "              precision    recall  f1-score   support\n",
      "\n",
      "           0       0.63      0.46      0.53      5293\n",
      "           1       0.56      0.45      0.50      3251\n",
      "           2       0.64      0.77      0.70     10009\n",
      "\n",
      "    accuracy                           0.62     18553\n",
      "   macro avg       0.61      0.56      0.58     18553\n",
      "weighted avg       0.62      0.62      0.61     18553\n",
      "\n"
     ]
    }
   ],
   "source": [
    "logistic_regression.fit(x_train, y_train)\n",
    "y_pred = logistic_regression.predict(x_test)\n",
    "accuracy = accuracy_score(y_test, y_pred)\n",
    "print(\"Accuracy:\", accuracy)\n",
    "print(classification_report(y_test, y_pred))"
   ]
  },
  {
   "cell_type": "code",
   "execution_count": null,
   "metadata": {},
   "outputs": [],
   "source": []
  }
 ],
 "metadata": {
  "kernelspec": {
   "display_name": "Python 3",
   "language": "python",
   "name": "python3"
  },
  "language_info": {
   "codemirror_mode": {
    "name": "ipython",
    "version": 3
   },
   "file_extension": ".py",
   "mimetype": "text/x-python",
   "name": "python",
   "nbconvert_exporter": "python",
   "pygments_lexer": "ipython3",
   "version": "3.8.0"
  }
 },
 "nbformat": 4,
 "nbformat_minor": 2
}
